{
 "cells": [
  {
   "cell_type": "code",
   "execution_count": 2,
   "metadata": {},
   "outputs": [],
   "source": [
    "import numpy as np"
   ]
  },
  {
   "cell_type": "markdown",
   "metadata": {},
   "source": [
    "# Урок 5"
   ]
  },
  {
   "cell_type": "markdown",
   "metadata": {},
   "source": [
    "## Линейные преобразования"
   ]
  },
  {
   "cell_type": "markdown",
   "metadata": {},
   "source": [
    "### __1.__ Найти собственные векторы и собственные значения для линейного оператора, заданного матрицей\n",
    "\n",
    "$A=\\begin{pmatrix}\n",
    "-1 & -6\\\\ \n",
    "2 & 6\n",
    "\\end{pmatrix}.$"
   ]
  },
  {
   "cell_type": "markdown",
   "metadata": {},
   "source": [
    "Решение:<br>\n",
    "$\\begin{pmatrix}\n",
    "-1-\\lambda & -6\\\\ \n",
    "2 & 6-\\lambda\n",
    "\\end{pmatrix} = 0$ <br> \n",
    "$(-1-\\lambda)(6-\\lambda) - 2\\cdot(-6) = 0$ <br>\n",
    "$-6 + \\lambda -6\\lambda + \\lambda^{2} + 12 = 0$ <br>\n",
    "$\\lambda_{1} = 2$ <br>\n",
    "$\\lambda_{2} = 3$ <br>\n",
    "При $\\lambda=2$: <br>\n",
    "$\\begin{cases}\n",
    "1\\cdot x_{1}-6\\cdot x_{2}=2\\cdot x_{1} \\\\ \n",
    "2\\cdot x_{1}+6\\cdot x_{2}=2\\cdot x_{2}\n",
    "\\end{cases}\\Rightarrow\n",
    "\\begin{cases}\n",
    "-3\\cdot x_{1}-6\\cdot x_{2}=0 \\\\ \n",
    "2\\cdot x_{1}+4\\cdot x_{2}=0\n",
    "\\end{cases} $\n",
    "$ \\Rightarrow 2\\cdot x_{1} = -4\\cdot x_{2}$ <br>\n",
    "$ x_{1} = -2\\cdot x_{2}$ <br>\n",
    "$ -3\\cdot(-2\\cdot x_{2}) - 6\\cdot x_{2} = 0$ <br>\n",
    "$ 6\\cdot x_{2} - 6\\cdot x_{2} = 0$ <br>\n",
    "$ 0 = 0$ <br>\n",
    "$ \\Rightarrow x_{1} = -2\\cdot0$ <br>\n",
    "$ x_{1} = 0$ <br>\n",
    "Следовательно, координата $x_{1}=0$, а координата $x_{2}$ может быть любой \n",
    "\n",
    "При $\\lambda=3$: <br>\n",
    "$\\begin{cases}\n",
    "-1\\cdot x_{1}-6\\cdot x_{2}=3\\cdot x_{1} \\\\ \n",
    "2\\cdot x_{1}+6\\cdot x_{2}=3\\cdot x_{2}\n",
    "\\end{cases}\\Rightarrow\n",
    "\\begin{cases}\n",
    "-4\\cdot x_{1}-6\\cdot x_{2}=0 \\\\ \n",
    "2\\cdot x_{1}+3\\cdot x_{2}=0\n",
    "\\end{cases} $\n",
    "$ \\Rightarrow -4\\cdot x_{1} = 6\\cdot x_{2}$ <br>\n",
    "$ x_{1} = -6/4\\cdot x_{2} = -3/2\\cdot x_{2}$ <br>\n",
    "$ -3\\cdot(-3/2\\cdot x_{2}) + 3\\cdot x_{2} = 0$ <br>\n",
    "$ -3\\cdot x_{2} + 3\\cdot x_{2} = 0$ <br>\n",
    "$ 0 = 0$ <br>\n",
    "$ \\Rightarrow x_{1} = -3/2\\cdot0$ <br>\n",
    "$ x_{1} = 0$ <br>\n",
    "\n",
    "Следовательно, координата $x_{1}=0$, а координата $x_{2}$ может быть любой"
   ]
  },
  {
   "cell_type": "markdown",
   "metadata": {},
   "source": [
    "### __2.__ Дан оператор поворота на 180 градусов, задаваемый матрицей \n",
    "\n",
    "$A=\\begin{pmatrix}\n",
    "-1 & 0\\\\ \n",
    "0 & -1\n",
    "\\end{pmatrix}.$\n",
    "\n",
    "Показать, что __любой__ вектор является для него собственным."
   ]
  },
  {
   "cell_type": "markdown",
   "metadata": {},
   "source": [
    "$\\begin{pmatrix}\n",
    "-1- \\lambda & 0\\\\ \n",
    "0 & -1-\\lambda\n",
    "\\end{pmatrix}=0$ <br>\n",
    "$(-1-\\lambda)(-1-\\lambda) = 0$ <br>\n",
    "$-1-\\lambda = 0$ <br>\n",
    "$\\lambda = -1$<br>\n",
    "$\\begin{pmatrix}\n",
    "-1 & 0\\\\ \n",
    "0 & -1\n",
    "\\end{pmatrix} \\begin{pmatrix}\n",
    "x_{1}\\\\ \n",
    "x_{2}\n",
    "\\end{pmatrix} = -1\\cdot \\begin{pmatrix}\n",
    "x_{1}\\\\ \n",
    "x_{2}\n",
    "\\end{pmatrix}$ <br>\n",
    "$\\begin{cases}-1\\cdot x_{1} + 0\\cdot x_{2} = -1\\cdot x_{1}\\\\\n",
    "0\\cdot x_{1} -1\\cdot x_{2} = -1\\cdot x_{2}\\end{cases}$ <br>\n",
    "$\\begin{cases}\n",
    "-x_{1} = -x_{1}\\\\\n",
    "-x_{2} = -x_{2}\\end{cases}$ <br>\n",
    "Следовательно, любой вектор является для него собственным."
   ]
  },
  {
   "cell_type": "markdown",
   "metadata": {},
   "source": [
    "### __3.__ Пусть линейный оператор задан матрицей\n",
    "\n",
    "$$A=\\begin{pmatrix}\n",
    "1 & 1\\\\ \n",
    "-1 & 3\n",
    "\\end{pmatrix}.$$\n",
    "\n",
    "Установить, является ли вектор $x=(1,1)$ собственным вектором этого линейного оператора."
   ]
  },
  {
   "cell_type": "markdown",
   "metadata": {},
   "source": [
    "Решение:<br> \n",
    "$\\begin{pmatrix}\n",
    "1 & 1\\\\ \n",
    "-1 & 3\n",
    "\\end{pmatrix}\n",
    "\\begin{pmatrix}\n",
    "1\\\\ \n",
    "1 \n",
    "\\end{pmatrix}=\n",
    "\\lambda\n",
    "\\begin{pmatrix}\n",
    "1\\\\ \n",
    "1\n",
    "\\end{pmatrix}\n",
    "$ <br><br>\n",
    "$\\begin{cases}\n",
    "1-1=1\\cdot\\lambda \\\\ \n",
    "-1-3 = 1\\cdot \\lambda\n",
    "\\end{cases}\n",
    "\\Rightarrow\n",
    "\\begin{cases}\n",
    "\\lambda=0\\\\ \n",
    "\\lambda=-4\n",
    "\\end{cases}$\n",
    "\n",
    "Такая система не имеет смысла, следовательно, вектор $x=(1,1)$ не является собственным вектором линейного оператора, заданного матрицей $A$."
   ]
  },
  {
   "cell_type": "markdown",
   "metadata": {},
   "source": [
    "### __4.__ Пусть линейный оператор задан матрицей\n",
    "\n",
    "$A=\\begin{pmatrix}\n",
    "0 & 3 & 0\\\\ \n",
    "3 & 0 & 0\\\\\n",
    "0 & 0 & 3\n",
    "\\end{pmatrix}.$\n",
    "\n",
    "Установить, является ли вектор $x=(3, -3, -4)$ собственным вектором этого линейного оператора."
   ]
  },
  {
   "cell_type": "markdown",
   "metadata": {},
   "source": [
    "Решение: <br> \n",
    "$\\begin{pmatrix}\n",
    "0 & 3 & 0\\\\ \n",
    "3 & 0 & 0\\\\\n",
    "0 & 0 & 3\n",
    "\\end{pmatrix}\n",
    "\\begin{pmatrix}\n",
    "3\\\\ \n",
    "-3\\\\\n",
    "-4\n",
    "\\end{pmatrix} = \\lambda \\begin{pmatrix}\n",
    "3\\\\ \n",
    "-3\\\\\n",
    "-4\n",
    "\\end{pmatrix}$\n",
    "\n",
    "<br><br>\n",
    "$\\begin{cases}\n",
    "0\\cdot3+3\\cdot(-3)+0\\cdot(-4)=3\\cdot\\lambda \\\\ \n",
    "3\\cdot3+0\\cdot(-3)+0\\cdot(-4)=-3\\cdot\\lambda \\\\ \n",
    "0\\cdot3+0\\cdot(-3)+3\\cdot(-4)=-4\\cdot\\lambda\n",
    "\\end{cases}\n",
    "\\Rightarrow\n",
    "\\begin{cases}\n",
    "\\lambda=-3\\\\\n",
    "\\lambda=-3\\\\\n",
    "\\lambda=3\n",
    "\\end{cases}$"
   ]
  },
  {
   "cell_type": "markdown",
   "metadata": {},
   "source": [
    "Такая система не имеет смысла, следовательно, вектор $x=(1,1)$ не является собственным вектором линейного оператора, заданного матрицей $A$."
   ]
  },
  {
   "cell_type": "code",
   "execution_count": null,
   "metadata": {},
   "outputs": [],
   "source": []
  }
 ],
 "metadata": {
  "kernelspec": {
   "display_name": "Python 3",
   "language": "python",
   "name": "python3"
  },
  "language_info": {
   "codemirror_mode": {
    "name": "ipython",
    "version": 3
   },
   "file_extension": ".py",
   "mimetype": "text/x-python",
   "name": "python",
   "nbconvert_exporter": "python",
   "pygments_lexer": "ipython3",
   "version": "3.7.3"
  }
 },
 "nbformat": 4,
 "nbformat_minor": 2
}
