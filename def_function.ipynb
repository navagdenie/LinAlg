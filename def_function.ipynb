{
 "cells": [
  {
   "cell_type": "code",
   "execution_count": 9,
   "metadata": {},
   "outputs": [],
   "source": [
    "import numpy as np"
   ]
  },
  {
   "cell_type": "code",
   "execution_count": 10,
   "metadata": {},
   "outputs": [],
   "source": [
    "def get_sum_(A):\n",
    "    sum_ = 0\n",
    "    for i in range(A.shape[0]):\n",
    "        if i==0: \n",
    "            sum_ = sum_ + A[0, i]*(A[i+1,i+1]*A[i+2,i+2] - A[i+2,i+1]*A[i+1,i+2]) \n",
    "        elif i==1:\n",
    "            sum_ = sum_ - A[0, i]*(A[i,i-1]*A[i+1,i+1] - A[i+1,i-1]*A[i,i+1])\n",
    "        elif i==2:\n",
    "            sum_ = sum_ + A[0, i]*(A[i-1,i-2]*A[i,i-1] - A[i,i-2]*A[i-1,i-1]) \n",
    "    return sum_"
   ]
  },
  {
   "cell_type": "code",
   "execution_count": 11,
   "metadata": {},
   "outputs": [
    {
     "name": "stdout",
     "output_type": "stream",
     "text": [
      "detA = -4872.000000000002\n"
     ]
    }
   ],
   "source": [
    "A = np.array([[4, 2, 3, 5, 6],\n",
    "              [0, 5, 1, 8, 7],\n",
    "              [0, 2, 1, 7, 9],\n",
    "              [3, 5, 7, 7, 0],\n",
    "              [0, 0, 9, 1, 5]])\n",
    "print(f'detA = {np.linalg.det(A)}')"
   ]
  },
  {
   "cell_type": "code",
   "execution_count": 12,
   "metadata": {},
   "outputs": [
    {
     "name": "stdout",
     "output_type": "stream",
     "text": [
      "[array([[4, 2, 3, 5, 6],\n",
      "       [0, 5, 1, 8, 7],\n",
      "       [0, 2, 1, 7, 9],\n",
      "       [3, 5, 7, 7, 0],\n",
      "       [0, 0, 9, 1, 5]])]\n",
      "{'[[4 2 3 5 6]\\n [0 5 1 8 7]\\n [0 2 1 7 9]\\n [3 5 7 7 0]\\n [0 0 9 1 5]]': 1}\n"
     ]
    },
    {
     "ename": "KeyError",
     "evalue": "'[[5. 1. 8. 7.]\\n [2. 1. 7. 9.]\\n [5. 7. 7. 0.]\\n [0. 9. 1. 5.]]'",
     "output_type": "error",
     "traceback": [
      "\u001b[1;31m---------------------------------------------------------------------------\u001b[0m",
      "\u001b[1;31mKeyError\u001b[0m                                  Traceback (most recent call last)",
      "\u001b[1;32m<ipython-input-12-c701c8f335bc>\u001b[0m in \u001b[0;36m<module>\u001b[1;34m\u001b[0m\n\u001b[0;32m     38\u001b[0m                 \u001b[1;31m#print(C)\u001b[0m\u001b[1;33m\u001b[0m\u001b[1;33m\u001b[0m\u001b[1;33m\u001b[0m\u001b[0m\n\u001b[0;32m     39\u001b[0m                 \u001b[0mlist_copy\u001b[0m\u001b[1;33m.\u001b[0m\u001b[0mappend\u001b[0m\u001b[1;33m(\u001b[0m\u001b[0mC\u001b[0m\u001b[1;33m.\u001b[0m\u001b[0mcopy\u001b[0m\u001b[1;33m(\u001b[0m\u001b[1;33m)\u001b[0m\u001b[1;33m)\u001b[0m\u001b[1;33m\u001b[0m\u001b[1;33m\u001b[0m\u001b[0m\n\u001b[1;32m---> 40\u001b[1;33m                 \u001b[0mdict_\u001b[0m\u001b[1;33m[\u001b[0m\u001b[0mstr\u001b[0m\u001b[1;33m(\u001b[0m\u001b[0mi\u001b[0m\u001b[1;33m)\u001b[0m\u001b[1;33m+\u001b[0m\u001b[1;34m'_'\u001b[0m\u001b[1;33m+\u001b[0m\u001b[0mstr\u001b[0m\u001b[1;33m(\u001b[0m\u001b[0mC\u001b[0m\u001b[1;33m)\u001b[0m\u001b[1;33m]\u001b[0m\u001b[1;33m=\u001b[0m\u001b[0mB\u001b[0m\u001b[1;33m[\u001b[0m\u001b[1;36m0\u001b[0m\u001b[1;33m,\u001b[0m \u001b[0mi\u001b[0m\u001b[1;33m]\u001b[0m\u001b[1;33m*\u001b[0m\u001b[0mdict_\u001b[0m\u001b[1;33m[\u001b[0m\u001b[0mstr\u001b[0m\u001b[1;33m(\u001b[0m\u001b[0mB\u001b[0m\u001b[1;33m)\u001b[0m\u001b[1;33m]\u001b[0m\u001b[1;33m\u001b[0m\u001b[1;33m\u001b[0m\u001b[0m\n\u001b[0m\u001b[0;32m     41\u001b[0m                 \u001b[1;31m#print(dict_[str(C)])\u001b[0m\u001b[1;33m\u001b[0m\u001b[1;33m\u001b[0m\u001b[1;33m\u001b[0m\u001b[0m\n\u001b[0;32m     42\u001b[0m             \u001b[0mlist_copy\u001b[0m\u001b[1;33m.\u001b[0m\u001b[0mremove\u001b[0m\u001b[1;33m(\u001b[0m\u001b[0mB\u001b[0m\u001b[1;33m)\u001b[0m\u001b[1;33m\u001b[0m\u001b[1;33m\u001b[0m\u001b[0m\n",
      "\u001b[1;31mKeyError\u001b[0m: '[[5. 1. 8. 7.]\\n [2. 1. 7. 9.]\\n [5. 7. 7. 0.]\\n [0. 9. 1. 5.]]'"
     ]
    }
   ],
   "source": [
    "add_string = False\n",
    "list_ = [A]\n",
    "print(list_)\n",
    "list_copy = list_.copy()\n",
    "\n",
    "dict_ = dict({str(A): 1})\n",
    "print(dict_)\n",
    "\n",
    "\n",
    "if A.shape[0]==A.shape[1]:\n",
    "    for n in range(A.shape[0]-3):\n",
    "        C = np.array([[0.] * (A.shape[0]-n-1)] * (A.shape[0]-n-1))\n",
    "        #print(C)\n",
    "        \n",
    "        for l in range(len(list_)):\n",
    "            B = list_[l]\n",
    "            for i in range(B.shape[1]):\n",
    "                #print(f'{B[0, i]}')\n",
    "                y=0\n",
    "                for j in range(B.shape[0]):                \n",
    "                    z=0\n",
    "                    if j==0:\n",
    "                        pass\n",
    "                    else:\n",
    "                        for k in range(B.shape[1]):\n",
    "                            if k==i:\n",
    "                                pass\n",
    "                            else:\n",
    "                                add_string = True\n",
    "                                if i%2==0:\n",
    "                                    C[y, z] = B[j, k]\n",
    "                                else:\n",
    "                                    C[y, z] = B[j, k]\n",
    "                                z += 1\n",
    "                    if add_string:\n",
    "                        y += 1\n",
    "                        add_string = False\n",
    "                #print(C)                    \n",
    "                list_copy.append(C.copy())\n",
    "                dict_[str(i)+'_'+str(C)]=B[0, i]*dict_[str(B)]\n",
    "                #print(dict_[str(C)])    \n",
    "            list_copy.remove(B)\n",
    "        list_ = list_copy.copy()\n",
    "        #print(list_)\n",
    "    \n",
    "    det = 0\n",
    "    for r in range(len(list_)):\n",
    "        H = list_[r]\n",
    "        #print(H)\n",
    "        det += get_sum_(H)\n",
    "        #print(get_sum_(H))\n",
    "    print(det)\n",
    "    \n",
    "\n",
    "        \n",
    "        \n",
    "    \n",
    "\n"
   ]
  },
  {
   "cell_type": "code",
   "execution_count": null,
   "metadata": {},
   "outputs": [],
   "source": []
  }
 ],
 "metadata": {
  "kernelspec": {
   "display_name": "Python 3",
   "language": "python",
   "name": "python3"
  },
  "language_info": {
   "codemirror_mode": {
    "name": "ipython",
    "version": 3
   },
   "file_extension": ".py",
   "mimetype": "text/x-python",
   "name": "python",
   "nbconvert_exporter": "python",
   "pygments_lexer": "ipython3",
   "version": "3.7.3"
  }
 },
 "nbformat": 4,
 "nbformat_minor": 2
}
