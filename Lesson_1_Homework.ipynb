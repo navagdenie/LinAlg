{
 "cells": [
  {
   "cell_type": "markdown",
   "metadata": {},
   "source": [
    "# Урок 1"
   ]
  },
  {
   "cell_type": "markdown",
   "metadata": {},
   "source": [
    "## Линейное пространство. Основные понятия. Часть 1"
   ]
  },
  {
   "cell_type": "markdown",
   "metadata": {},
   "source": [
    "### __1.__ Исследовать на линейную зависимость:\n",
    "$$f_{1}(x)=e^{x}, f_{2}(x)=1, f_{3}(x)=x+1, f_{4}(x)=x-e^{x}.$$\n"
   ]
  },
  {
   "cell_type": "markdown",
   "metadata": {},
   "source": [
    "#### Решение:"
   ]
  },
  {
   "cell_type": "markdown",
   "metadata": {},
   "source": [
    "$f_{4}(x)=f_{3}(x)-f_{2}(x)-f_{1}(x)$"
   ]
  },
  {
   "cell_type": "markdown",
   "metadata": {},
   "source": [
    "$f_{4}(x)=(x+1)-(1)-(e^{x})=x+1-1-e^{x}=x-e^{x}$"
   ]
  },
  {
   "cell_type": "markdown",
   "metadata": {},
   "source": [
    "Следовательно векторы линейно зависимы."
   ]
  },
  {
   "cell_type": "markdown",
   "metadata": {},
   "source": [
    "### __2.__ Исследовать на линейную зависимость:\n",
    "$$f_{1}(x)=2, f_{2}(x)=x, f_{3}(x)=x^{2}, f_{4}(x)=(x+1)^{2}.$$"
   ]
  },
  {
   "cell_type": "markdown",
   "metadata": {},
   "source": [
    "#### Решение:"
   ]
  },
  {
   "cell_type": "markdown",
   "metadata": {},
   "source": [
    "$f_{4}(x)=(x+1)^{2}=x^{2}+2x+1$"
   ]
  },
  {
   "cell_type": "markdown",
   "metadata": {},
   "source": [
    "$f_{4}(x)=f_{3}(x)+2\\cdot f_{2}(x)+0.5\\cdot f_{1}(x)$"
   ]
  },
  {
   "cell_type": "markdown",
   "metadata": {},
   "source": [
    "$f_{4}(x)=x^{2}+2\\cdot x+0.5\\cdot 2=x^{2}+2x+1$"
   ]
  },
  {
   "cell_type": "markdown",
   "metadata": {},
   "source": [
    "Следовательно векторы линейно зависимы."
   ]
  },
  {
   "cell_type": "markdown",
   "metadata": {},
   "source": [
    "### 3. Найти координаты вектора  x=(2,3,5)∈R3  в базисе  b1=(0,0,10) ,  b2=(2,0,0) ,  b3=(0,1,0) . "
   ]
  },
  {
   "cell_type": "markdown",
   "metadata": {},
   "source": [
    "#### Решение:"
   ]
  },
  {
   "cell_type": "markdown",
   "metadata": {},
   "source": [
    "$x=(2,3,5)=(2,0,0)+(0,3,0)+(0,0,5)=(2,0,0)+3\\cdot(0,1,0)+0.5\\cdot(0,0,10)=b2+3\\cdot b3+0.5\\cdot b1$"
   ]
  },
  {
   "cell_type": "markdown",
   "metadata": {},
   "source": [
    "Координатами вектора x в базисе b1=(0,0,10),  b2=(2,0,0),  b3=(0,1,0) являются 0.5, 1, 3."
   ]
  },
  {
   "cell_type": "markdown",
   "metadata": {},
   "source": [
    "### __4.__ Найти координаты вектора $3x^{2}-2x+2\\in\\mathbb{R}^{3}[x]$:"
   ]
  },
  {
   "cell_type": "markdown",
   "metadata": {},
   "source": [
    "#### а) в базисе $1$, $x$, $x^{2}$;"
   ]
  },
  {
   "cell_type": "markdown",
   "metadata": {},
   "source": [
    "#### Решение:"
   ]
  },
  {
   "cell_type": "markdown",
   "metadata": {},
   "source": [
    "Координатами вектора являются 2, -2, 3."
   ]
  },
  {
   "cell_type": "markdown",
   "metadata": {},
   "source": [
    "#### б) в базисе $x^{2}$, $x-1$, $1$."
   ]
  },
  {
   "cell_type": "markdown",
   "metadata": {},
   "source": [
    "#### Решение:"
   ]
  },
  {
   "cell_type": "markdown",
   "metadata": {},
   "source": [
    "Координатами вектора являются 3, -2, 0."
   ]
  },
  {
   "cell_type": "markdown",
   "metadata": {},
   "source": [
    "### 5. Установить, является ли линейным подпространством:"
   ]
  },
  {
   "cell_type": "markdown",
   "metadata": {},
   "source": [
    "#### а) совокупность всех векторов трехмерного пространства, у которых по крайней мере одна из первых двух координат равна нулю;"
   ]
  },
  {
   "cell_type": "markdown",
   "metadata": {},
   "source": [
    "В таком случае возможны 3 вида векторов:\n",
    "    1. (0,0,c),\n",
    "    2. (a,0,c),\n",
    "    3. (0,b,c)."
   ]
  },
  {
   "cell_type": "markdown",
   "metadata": {},
   "source": [
    "Мы знаем, что должны быть выполнены условия:\n",
    "$$1)\\ u+v\\in L;$$\n",
    "$$2)\\ \\alpha\\cdot u \\in L.$$"
   ]
  },
  {
   "cell_type": "markdown",
   "metadata": {},
   "source": [
    "Соответственно:"
   ]
  },
  {
   "cell_type": "markdown",
   "metadata": {},
   "source": [
    "1."
   ]
  },
  {
   "cell_type": "markdown",
   "metadata": {},
   "source": [
    "$ \\ (0,0,c)+(0,0,f)=(0,0,c+f) \\in L$"
   ]
  },
  {
   "cell_type": "markdown",
   "metadata": {},
   "source": [
    "$ \\ \\alpha\\cdot (0,0,c)=(0,0, \\alpha\\cdot c) \\in L$"
   ]
  },
  {
   "cell_type": "markdown",
   "metadata": {},
   "source": [
    "2."
   ]
  },
  {
   "cell_type": "markdown",
   "metadata": {},
   "source": [
    "$ \\ (a,0,c)+(d,0,f)=(a+d,0,c+f) \\in L$"
   ]
  },
  {
   "cell_type": "markdown",
   "metadata": {},
   "source": [
    "$ \\ \\alpha\\cdot (a,0,c)=(\\alpha\\cdot a,0, \\alpha\\cdot c) \\in L$"
   ]
  },
  {
   "cell_type": "markdown",
   "metadata": {},
   "source": [
    "3."
   ]
  },
  {
   "cell_type": "markdown",
   "metadata": {},
   "source": [
    "$ \\ (0,b,c)+(0,e,f)=(0,b+e,c+f) \\in L$"
   ]
  },
  {
   "cell_type": "markdown",
   "metadata": {},
   "source": [
    "$ \\ \\alpha\\cdot (0,b,c)=(0, \\alpha\\cdot b, \\alpha\\cdot c) \\in L$"
   ]
  },
  {
   "cell_type": "markdown",
   "metadata": {},
   "source": [
    "Следовтельно, данные множества являются подпространствами линейного пространства."
   ]
  },
  {
   "cell_type": "markdown",
   "metadata": {},
   "source": [
    "#### б) все векторы, являющиеся линейными комбинациями данных векторов $\\{u_{1}, u_{2}, ..., u_{n}\\}$."
   ]
  },
  {
   "cell_type": "markdown",
   "metadata": {},
   "source": [
    "Я не поняла это задание. "
   ]
  },
  {
   "cell_type": "markdown",
   "metadata": {},
   "source": [
    "# Урок 2"
   ]
  },
  {
   "cell_type": "markdown",
   "metadata": {},
   "source": [
    "## Линейное пространство. Основные понятия. Часть 2"
   ]
  },
  {
   "cell_type": "markdown",
   "metadata": {},
   "source": [
    "### __1.__ Найти скалярное произведение векторов $x, y \\in \\mathbb{R}$:"
   ]
  },
  {
   "cell_type": "markdown",
   "metadata": {},
   "source": [
    "#### а) $x=(0,-3, 6),~y=(-4, 7, 9);$"
   ]
  },
  {
   "cell_type": "markdown",
   "metadata": {},
   "source": [
    "Вариант 1:"
   ]
  },
  {
   "cell_type": "markdown",
   "metadata": {},
   "source": [
    "$(x,y)=0\\cdot(-4)+(-3)\\cdot7+6\\cdot9=0-21+54=33$"
   ]
  },
  {
   "cell_type": "markdown",
   "metadata": {},
   "source": [
    "Вариант 2:"
   ]
  },
  {
   "cell_type": "code",
   "execution_count": 1,
   "metadata": {},
   "outputs": [],
   "source": [
    "import numpy as np"
   ]
  },
  {
   "cell_type": "code",
   "execution_count": 2,
   "metadata": {},
   "outputs": [
    {
     "name": "stdout",
     "output_type": "stream",
     "text": [
      "(x,y) = 33\n"
     ]
    }
   ],
   "source": [
    "x = np.array([0, -3, 6])\n",
    "y = np.array([-4, 7, 9])\n",
    "print(f'(x,y) = {(np.dot(x, y))}')"
   ]
  },
  {
   "cell_type": "markdown",
   "metadata": {},
   "source": [
    "#### б) $x=(7, -4, 0, 1),~y=(-3, 1, 11, 2).$"
   ]
  },
  {
   "cell_type": "markdown",
   "metadata": {},
   "source": [
    "Вариант 1:"
   ]
  },
  {
   "cell_type": "markdown",
   "metadata": {},
   "source": [
    "$(x,y)=7\\cdot(-3)+(-4)\\cdot1+0\\cdot11+1\\cdot2=-21-4+0+2=-23$"
   ]
  },
  {
   "cell_type": "markdown",
   "metadata": {},
   "source": [
    "Вариант 2:"
   ]
  },
  {
   "cell_type": "code",
   "execution_count": 3,
   "metadata": {},
   "outputs": [
    {
     "name": "stdout",
     "output_type": "stream",
     "text": [
      "(x,y) = -23\n"
     ]
    }
   ],
   "source": [
    "x = np.array([7, -4, 0, 1])\n",
    "y = np.array([-3, 1, 11, 2])\n",
    "print(f'(x,y) = {(np.dot(x, y))}')"
   ]
  },
  {
   "cell_type": "markdown",
   "metadata": {},
   "source": [
    "### __2.__ Найти нормы векторов $(4, 2, 4)$ и $(12, 3, 4)$ и угол между ними."
   ]
  },
  {
   "cell_type": "markdown",
   "metadata": {},
   "source": [
    "$a=(4,2,4)$\n",
    "$b=(12,3,4)$"
   ]
  },
  {
   "cell_type": "markdown",
   "metadata": {},
   "source": [
    "Вариант 1:"
   ]
  },
  {
   "cell_type": "markdown",
   "metadata": {},
   "source": [
    "$\\left\\|x\\right\\|_{1} = \\sum_{i}|x_{i}|$"
   ]
  },
  {
   "cell_type": "markdown",
   "metadata": {},
   "source": [
    "$\\left\\|a\\right\\|_{1} = |4|+|2|+|4| = 10$<br>\n",
    "$\\left\\|b\\right\\|_{1} = |12|+|3|+|4| = 19$"
   ]
  },
  {
   "cell_type": "markdown",
   "metadata": {},
   "source": [
    "$\\left\\|x\\right\\|_{2} = \\sqrt{\\sum_{i}|x_{i}|^{2}}$"
   ]
  },
  {
   "cell_type": "markdown",
   "metadata": {},
   "source": [
    "$\\left\\|a\\right\\|_{2} = \\sqrt{|4|^{2}+|2|^{2}+|4|^{2}}=\\sqrt{16+4+16}=\\sqrt{36}=6$<br>\n",
    "$\\left\\|b\\right\\|_{2} = \\sqrt{|12|^{2}+|3|^{2}+|4|^{2}}=\\sqrt{144+9+16}=\\sqrt{169}=13$"
   ]
  },
  {
   "cell_type": "markdown",
   "metadata": {},
   "source": [
    "$cos\\alpha = \\frac{4\\cdot12+2\\cdot3+4\\cdot4}{\\sqrt{|4|^{2}+|2|^{2}+|4|^{2}}\\sqrt{|12|^{2}+|3|^{2}+|4|^{2}}}=\\frac{48+6+16}{6\\cdot13}=\\frac{70}{78}\\approx0.89744$"
   ]
  },
  {
   "cell_type": "markdown",
   "metadata": {},
   "source": [
    "$arccos\\alpha=arccos(0.89744)\\approx0.45$"
   ]
  },
  {
   "cell_type": "markdown",
   "metadata": {},
   "source": [
    "Вариант 2:"
   ]
  },
  {
   "cell_type": "code",
   "execution_count": 4,
   "metadata": {},
   "outputs": [],
   "source": [
    "from numpy.linalg import norm"
   ]
  },
  {
   "cell_type": "code",
   "execution_count": 5,
   "metadata": {},
   "outputs": [],
   "source": [
    "a = np.array([4,2,4])\n",
    "b= np.array([12,3,4])"
   ]
  },
  {
   "cell_type": "code",
   "execution_count": 6,
   "metadata": {},
   "outputs": [
    {
     "name": "stdout",
     "output_type": "stream",
     "text": [
      "l1 норма вектора a: 10.0\n",
      "l1 норма вектора b: 19.0\n"
     ]
    }
   ],
   "source": [
    "print(f'l1 норма вектора a: {norm(a, ord=1)}')\n",
    "print(f'l1 норма вектора b: {norm(b, ord=1)}')"
   ]
  },
  {
   "cell_type": "code",
   "execution_count": 7,
   "metadata": {},
   "outputs": [
    {
     "name": "stdout",
     "output_type": "stream",
     "text": [
      "l2 норма вектора a: 6.0\n",
      "l2 норма вектора b: 13.0\n"
     ]
    }
   ],
   "source": [
    "print(f'l2 норма вектора a: {norm(a)}')\n",
    "print(f'l2 норма вектора b: {norm(b)}')"
   ]
  },
  {
   "cell_type": "code",
   "execution_count": 8,
   "metadata": {},
   "outputs": [
    {
     "name": "stdout",
     "output_type": "stream",
     "text": [
      "Косинус угла: 0.8974358974358974\n",
      "Угол между векторами a и b: 0.4568740035326613\n"
     ]
    }
   ],
   "source": [
    "cos_alpha =np.dot(a, b) / norm(a) / norm(b)\n",
    "print(f'Косинус угла: {cos_alpha}')\n",
    "print(f'Угол между векторами a и b: {np.arccos(cos_alpha)}')"
   ]
  },
  {
   "cell_type": "markdown",
   "metadata": {},
   "source": [
    "### __3.__ Будет ли линейное пространство евклидовым, если за скалярное произведение принять:"
   ]
  },
  {
   "cell_type": "markdown",
   "metadata": {},
   "source": [
    "Для того, чтобы пространство было евклидовым должны выполнятся следующие условия:<br>\n",
    "1) $(x,y)=(y,x);$<br>\n",
    "2) $(\\lambda x, y)=\\lambda(x, y);$<br>\n",
    "3) $(x_{1}+x_{2},y)=(x_{1},y)+(x_{2},y);$<br>\n",
    "4) $(x, x)\\geq0$, причем $(x,x)=0\\Leftrightarrow x=0.$"
   ]
  },
  {
   "cell_type": "markdown",
   "metadata": {},
   "source": [
    "#### а) произведение длин векторов;"
   ]
  },
  {
   "cell_type": "markdown",
   "metadata": {},
   "source": [
    "1) $(\\left\\|x\\right\\|,\\left\\|y\\right\\|)=(\\left\\|y\\right\\|,\\left\\|x\\right\\|);$<br>\n",
    "2) $(\\lambda\\left\\|x\\right\\|, \\left\\|y\\right\\|) = \\lambda ( \\left\\|x\\right\\|, \\left\\|y\\right\\|);$<br>\n",
    "3) $(\\left\\|x_{1}\\right\\|+\\left\\|x_{2}\\right\\|,\\left\\|y\\right\\|)=(\\left\\|x_{1}\\right\\|,\\left\\|y\\right\\|)+(\\left\\|x_{2}\\right\\|,\\left\\|y\\right\\|);$<br>\n",
    "4) $(\\left\\|x\\right\\|, \\left\\|x\\right\\|)\\geq0$, причем $(\\left\\|x\\right\\|,\\left\\|x\\right\\|)=0\\Leftrightarrow \\left\\|x\\right\\|=0.$<br>\n",
    "Все условия выполнены, значит линейное пространство будет евклидовым."
   ]
  },
  {
   "cell_type": "markdown",
   "metadata": {},
   "source": [
    "#### б) утроенное обычное скалярное произведение векторов?"
   ]
  },
  {
   "cell_type": "markdown",
   "metadata": {},
   "source": [
    "1) $3\\cdot(x,y)=3\\cdot(y,x);$<br>\n",
    "2) $3\\cdot(\\lambda x, y)=3\\cdot\\lambda(x, y);$<br>\n",
    "3) $3\\cdot(x_{1}+x_{2},y)=3\\cdot(x_{1},y)+3\\cdot(x_{2},y);$<br>\n",
    "4) $(x, x)\\geq0$, причем $(x,x)=0\\Leftrightarrow x=0.$<br>\n",
    "Все условия выполнены, значит линейное пространство будет евклидовым."
   ]
  },
  {
   "cell_type": "markdown",
   "metadata": {},
   "source": [
    "### __4.__ Какие из нижеперечисленных векторов образуют ортонормированный базис в линейном пространстве $\\mathbb{R}^{3}$:"
   ]
  },
  {
   "cell_type": "markdown",
   "metadata": {},
   "source": [
    "В конечномерном евклидовом пространстве базис $\\{e_{1},e_{2},...,e_{n}\\}$ называется ортонормированным, если \n",
    "\n",
    "$(e_{i}, e_{j})=0$ $\\forall$ $i\\neq j$ и $(e_{i},e_{i})=1$ $\\forall$ $i\\in[1, n].$"
   ]
  },
  {
   "cell_type": "markdown",
   "metadata": {},
   "source": [
    "#### а) $(1,0,0),(0,0,1);$ "
   ]
  },
  {
   "cell_type": "code",
   "execution_count": 9,
   "metadata": {},
   "outputs": [
    {
     "name": "stdout",
     "output_type": "stream",
     "text": [
      "(e1,e2)=0\n",
      "(e1,e1)=1\n",
      "(e2,e2)=1\n"
     ]
    }
   ],
   "source": [
    "e1 = np.array([1,0,0])\n",
    "e2= np.array([0,0,1])\n",
    "\n",
    "print(f'(e1,e2)={np.dot(e1,e2)}')\n",
    "print(f'(e1,e1)={np.dot(e1,e1)}')\n",
    "print(f'(e2,e2)={np.dot(e2,e2)}')"
   ]
  },
  {
   "cell_type": "markdown",
   "metadata": {},
   "source": [
    "Векторы образуют ортонормированный базис."
   ]
  },
  {
   "cell_type": "markdown",
   "metadata": {},
   "source": [
    "#### б) $(1/\\sqrt{2},-1/\\sqrt{2},0),(1/\\sqrt{2},1/\\sqrt{2},0), (0,0,1);$"
   ]
  },
  {
   "cell_type": "code",
   "execution_count": 10,
   "metadata": {},
   "outputs": [
    {
     "name": "stdout",
     "output_type": "stream",
     "text": [
      "(e1,e2)=0.0\n",
      "(e1,e3)=0.0\n",
      "(e2,e3)=0.0\n",
      "(e1,e1)=1\n",
      "(e2,e2)=1\n",
      "(e3,e3)=1\n"
     ]
    }
   ],
   "source": [
    "e1 = np.array([1/np.sqrt(2),-1/np.sqrt(2),0])\n",
    "e2 = np.array([1/np.sqrt(2),1/np.sqrt(2),0])\n",
    "e3= np.array([0,0,1])\n",
    "\n",
    "print(f'(e1,e2)={np.dot(e1,e2)}')\n",
    "print(f'(e1,e3)={np.dot(e1,e3)}')\n",
    "print(f'(e2,e3)={np.dot(e2,e3)}')\n",
    "print(f'(e1,e1)={np.dot(e1,e1):.0f}')\n",
    "print(f'(e2,e2)={np.dot(e2,e2):.0f}')\n",
    "print(f'(e3,e3)={np.dot(e3,e3)}')"
   ]
  },
  {
   "cell_type": "markdown",
   "metadata": {},
   "source": [
    "Векторы образуют ортонормированный базис."
   ]
  },
  {
   "cell_type": "markdown",
   "metadata": {},
   "source": [
    "#### в) $(1/2, -1/2, 0), (0, 1/2, 1/2), (0,0,1);$"
   ]
  },
  {
   "cell_type": "code",
   "execution_count": 11,
   "metadata": {},
   "outputs": [
    {
     "name": "stdout",
     "output_type": "stream",
     "text": [
      "(e1,e2)=-0.25\n",
      "(e1,e3)=0.0\n",
      "(e2,e3)=0.5\n",
      "(e1,e1)=0.5\n",
      "(e2,e2)=0.5\n",
      "(e3,e3)=1\n"
     ]
    }
   ],
   "source": [
    "e1 = np.array([1/2,-1/2,0])\n",
    "e2 = np.array([0,1/2,1/2])\n",
    "e3= np.array([0,0,1])\n",
    "\n",
    "print(f'(e1,e2)={np.dot(e1,e2)}')\n",
    "print(f'(e1,e3)={np.dot(e1,e3)}')\n",
    "print(f'(e2,e3)={np.dot(e2,e3)}')\n",
    "print(f'(e1,e1)={np.dot(e1,e1)}')\n",
    "print(f'(e2,e2)={np.dot(e2,e2)}')\n",
    "print(f'(e3,e3)={np.dot(e3,e3)}')"
   ]
  },
  {
   "cell_type": "markdown",
   "metadata": {},
   "source": [
    "Векторы не образуют ортонормированный базис."
   ]
  },
  {
   "cell_type": "markdown",
   "metadata": {},
   "source": [
    "#### г) $(1,0,0),(0,1,0),(0,0,1)?$ "
   ]
  },
  {
   "cell_type": "code",
   "execution_count": 12,
   "metadata": {},
   "outputs": [
    {
     "name": "stdout",
     "output_type": "stream",
     "text": [
      "(e1,e2)=0\n",
      "(e1,e3)=0\n",
      "(e2,e3)=0\n",
      "(e1,e1)=1\n",
      "(e2,e2)=1\n",
      "(e3,e3)=1\n"
     ]
    }
   ],
   "source": [
    "e1 = np.array([1,0,0])\n",
    "e2 = np.array([0,1,0])\n",
    "e3= np.array([0,0,1])\n",
    "\n",
    "print(f'(e1,e2)={np.dot(e1,e2)}')\n",
    "print(f'(e1,e3)={np.dot(e1,e3)}')\n",
    "print(f'(e2,e3)={np.dot(e2,e3)}')\n",
    "print(f'(e1,e1)={np.dot(e1,e1)}')\n",
    "print(f'(e2,e2)={np.dot(e2,e2)}')\n",
    "print(f'(e3,e3)={np.dot(e3,e3)}')"
   ]
  },
  {
   "cell_type": "markdown",
   "metadata": {},
   "source": [
    "Векторы образуют ортонормированный базис."
   ]
  },
  {
   "cell_type": "code",
   "execution_count": null,
   "metadata": {},
   "outputs": [],
   "source": []
  }
 ],
 "metadata": {
  "kernelspec": {
   "display_name": "Python 3",
   "language": "python",
   "name": "python3"
  },
  "language_info": {
   "codemirror_mode": {
    "name": "ipython",
    "version": 3
   },
   "file_extension": ".py",
   "mimetype": "text/x-python",
   "name": "python",
   "nbconvert_exporter": "python",
   "pygments_lexer": "ipython3",
   "version": "3.7.3"
  }
 },
 "nbformat": 4,
 "nbformat_minor": 2
}
