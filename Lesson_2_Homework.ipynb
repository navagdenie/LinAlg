{
 "cells": [
  {
   "cell_type": "markdown",
   "metadata": {},
   "source": [
    "# Урок 3"
   ]
  },
  {
   "cell_type": "markdown",
   "metadata": {},
   "source": [
    "## Матрицы и матричные операции. Часть 1"
   ]
  },
  {
   "cell_type": "markdown",
   "metadata": {},
   "source": [
    "### __1.__ Установить, какие произведения матриц $AB$ и $BA$ определены, и найти размерности полученных матриц:"
   ]
  },
  {
   "cell_type": "markdown",
   "metadata": {},
   "source": [
    "#### а) $A$ — матрица $4\\times 2$, $B$ — матрица $4\\times 2$;"
   ]
  },
  {
   "cell_type": "markdown",
   "metadata": {},
   "source": [
    "Для вычисления произведения матриц, необходимо чтобы число столюцов первой матрицы равнялось числу строк второй. В данном случае перемножение невозможно."
   ]
  },
  {
   "cell_type": "markdown",
   "metadata": {},
   "source": [
    "#### б) $A$ — матрица $2\\times 5$, $B$ — матрица $5\\times 3$;"
   ]
  },
  {
   "cell_type": "markdown",
   "metadata": {},
   "source": [
    "В данном случае перемножение невозможно."
   ]
  },
  {
   "cell_type": "markdown",
   "metadata": {},
   "source": [
    "#### в) $A$ — матрица $8\\times 3$, $B$ — матрица $3\\times 8$;"
   ]
  },
  {
   "cell_type": "markdown",
   "metadata": {},
   "source": [
    "Возможно произведение $AB$ и $BА$, размерность будет соответственно $8\\times 8$ и $3\\times 3$."
   ]
  },
  {
   "cell_type": "markdown",
   "metadata": {},
   "source": [
    "#### г) $A$ — квадратная матрица $4\\times 4$, $B$ — квадратная матрица $4\\times 4$."
   ]
  },
  {
   "cell_type": "markdown",
   "metadata": {},
   "source": [
    "Возможны произведения $AB$ и $BA$, размерность матриц будет $4\\times 4$.  "
   ]
  },
  {
   "cell_type": "markdown",
   "metadata": {},
   "source": [
    "### __2.__ Найти сумму и произведение матриц $A=\\begin{pmatrix}\n",
    "1 & -2\\\\ \n",
    "3 & 0\n",
    "\\end{pmatrix}$ и $B=\\begin{pmatrix}\n",
    "4 & -1\\\\ \n",
    "0 & 5\n",
    "\\end{pmatrix}.$"
   ]
  },
  {
   "cell_type": "markdown",
   "metadata": {},
   "source": [
    "$A + B =\\begin{pmatrix}\n",
    "(1+4) & (-2-1)\\\\ \n",
    "(3+0) & (0+5)\n",
    "\\end{pmatrix}=\\begin{pmatrix}\n",
    "5 & -3\\\\ \n",
    "3 & 5\n",
    "\\end{pmatrix}$ <br>\n",
    "\n",
    "$A\\cdot B=\\begin{pmatrix}\n",
    "(1\\cdot4+(-2)\\cdot0) & (1\\cdot(-1)+(-2)\\cdot5)\\\\ \n",
    "(3\\cdot4+0\\cdot0) & (3\\cdot(-1)+0\\cdot5)\n",
    "\\end{pmatrix} = \\begin{pmatrix}\n",
    "(4+0) & (-1-10)\\\\ \n",
    "(12+0) & (-3+0)\n",
    "\\end{pmatrix} = \\begin{pmatrix}\n",
    "4 & -11\\\\ \n",
    "12 & -3\n",
    "\\end{pmatrix} $ <br>\n",
    "\n",
    "$B\\cdot A=\\begin{pmatrix}\n",
    "(4\\cdot1+(-1)\\cdot3) & (4\\cdot(-2)+(-1)\\cdot0)\\\\ \n",
    "(0\\cdot1+5\\cdot3) & (0\\cdot(-2)+5\\cdot0)\n",
    "\\end{pmatrix} = \\begin{pmatrix}\n",
    "(4-3) & (-8+0)\\\\ \n",
    "(0+15) & (0+0)\n",
    "\\end{pmatrix} = \\begin{pmatrix}\n",
    "1 & -8\\\\ \n",
    "15 & 0\n",
    "\\end{pmatrix} $"
   ]
  },
  {
   "cell_type": "code",
   "execution_count": 5,
   "metadata": {},
   "outputs": [],
   "source": [
    "import numpy as np"
   ]
  },
  {
   "cell_type": "code",
   "execution_count": 2,
   "metadata": {},
   "outputs": [
    {
     "name": "stdout",
     "output_type": "stream",
     "text": [
      "А+B =\n",
      "[[ 5 -3]\n",
      " [ 3  5]]\n",
      "\n",
      "A*B =\n",
      "[[  4 -11]\n",
      " [ 12  -3]]\n",
      "\n",
      "B*A =\n",
      "[[ 1 -8]\n",
      " [15  0]]\n"
     ]
    }
   ],
   "source": [
    "A = np.array([[1, -2],\n",
    "              [3, 0]])\n",
    "B = np.array([[4, -1],\n",
    "              [0, 5]])\n",
    "print(f'А+B =\\n{A+B}\\n')\n",
    "print(f'A*B =\\n{np.dot(A, B)}\\n')\n",
    "print(f'B*A =\\n{np.dot(B, A)}')"
   ]
  },
  {
   "cell_type": "markdown",
   "metadata": {},
   "source": [
    "### __3.__ Из закономерностей сложения и умножения матриц на число можно сделать вывод, что матрицы одного размера образуют линейное пространство. Вычислить линейную комбинацию $3A-2B+4C$ для матриц $A=\\begin{pmatrix}\n",
    "1 & 7\\\\ \n",
    "3 & -6\n",
    "\\end{pmatrix}$, $B=\\begin{pmatrix}\n",
    "0 & 5\\\\ \n",
    "2 & -1\n",
    "\\end{pmatrix}$, $C=\\begin{pmatrix}\n",
    "2 & -4\\\\ \n",
    "1 & 1\n",
    "\\end{pmatrix}.$"
   ]
  },
  {
   "cell_type": "markdown",
   "metadata": {},
   "source": [
    "$3A-2B+4C = 3\\cdot \\begin{pmatrix}\n",
    "1 & 7\\\\ \n",
    "3 & -6\n",
    "\\end{pmatrix} - 2\\cdot \\begin{pmatrix}\n",
    "0 & 5\\\\ \n",
    "2 & -1\n",
    "\\end{pmatrix}+ 4\\cdot \\begin{pmatrix}\n",
    "2 & -4\\\\ \n",
    "1 & 1\n",
    "\\end{pmatrix} = \\begin{pmatrix}\n",
    "3 & 21\\\\ \n",
    "9 & -18\n",
    "\\end{pmatrix} - \\begin{pmatrix}\n",
    "0 & 10\\\\ \n",
    "4 & -2\n",
    "\\end{pmatrix}+ \\begin{pmatrix}\n",
    "8 & -16\\\\ \n",
    "4 & 4\n",
    "\\end{pmatrix} = \\begin{pmatrix}\n",
    "11 & -5\\\\ \n",
    "9 & -12\n",
    "\\end{pmatrix}$"
   ]
  },
  {
   "cell_type": "code",
   "execution_count": 3,
   "metadata": {},
   "outputs": [
    {
     "name": "stdout",
     "output_type": "stream",
     "text": [
      "3А-2B+4C =\n",
      "[[ 11  -5]\n",
      " [  9 -12]]\n"
     ]
    }
   ],
   "source": [
    "A = np.array([[1, 7],\n",
    "              [3, -6]])\n",
    "B = np.array([[0, 5],\n",
    "              [2, -1]])\n",
    "C = np.array([[2, -4],\n",
    "              [1, 1]])\n",
    "\n",
    "print(f'3А-2B+4C =\\n{3*A-2*B+4*C}')"
   ]
  },
  {
   "cell_type": "markdown",
   "metadata": {},
   "source": [
    "### __4.__ Дана матрица $A=\\begin{pmatrix}\n",
    "4 & 1\\\\ \n",
    "5 & -2\\\\ \n",
    "2 & 3\n",
    "\\end{pmatrix}$.\n",
    "Вычислить $AA^{T}$ и $A^{T}A$."
   ]
  },
  {
   "cell_type": "markdown",
   "metadata": {},
   "source": [
    "$A^{T}=\\begin{pmatrix}\n",
    "4 & 5 & 2\\\\ \n",
    "1 & -2 & 3\\end{pmatrix}$ <br>\n",
    "\n",
    "$A \\cdot A^{T}=\\begin{pmatrix}\n",
    "4 & 1\\\\\n",
    "5 & -2\\\\\n",
    "2 & 3\\end{pmatrix} \\cdot \\begin{pmatrix}\n",
    "4 & 5 & 2\\\\ \n",
    "1 & -2 & 3\\end{pmatrix} \n",
    "= \\begin{pmatrix}\n",
    "(4\\cdot4+1\\cdot1) & (4\\cdot5+1\\cdot(-2)) & (4\\cdot2+1\\cdot3)\\\\ \n",
    "(5\\cdot4+(-2)\\cdot1) & (5\\cdot5+(-2)\\cdot(-2)) & (5\\cdot2+(-2)\\cdot3)\\\\ \n",
    "(2\\cdot4+3\\cdot1) & (2\\cdot5+3\\cdot(-2)) & (2\\cdot2+3\\cdot3)\\end{pmatrix} \n",
    "= \\begin{pmatrix}\n",
    "(16+1) & (20-2) & (8+3)\\\\ \n",
    "(20-2) & (25+4) & (10-6)\\\\ \n",
    "(8+3) & (10-6) & (4+9)\\end{pmatrix}\n",
    "= \\begin{pmatrix}\n",
    "17 & 18 & 11\\\\ \n",
    "18 & 29 & 4\\\\ \n",
    "11 & 4 & 13\\end{pmatrix}$ <br>\n",
    "\n",
    "$A^{T}\\cdot A=\\begin{pmatrix}\n",
    "4 & 5 & 2\\\\ \n",
    "1 & -2 & 3\\end{pmatrix}\\cdot\n",
    "\\begin{pmatrix}\n",
    "4 & 1\\\\\n",
    "5 & -2\\\\\n",
    "2 & 3\\end{pmatrix}\n",
    "= \\begin{pmatrix}\n",
    "(4\\cdot4+5\\cdot5+2\\cdot2) & (4\\cdot1+5\\cdot(-2)+2\\cdot3)\\\\ \n",
    "(1\\cdot4+(-2)\\cdot5+3\\cdot2) & (1\\cdot1+(-2)\\cdot(-2)+3\\cdot3)\\end{pmatrix} \n",
    "= \\begin{pmatrix}\n",
    "(16+25+4) & (4-10+6)\\\\ \n",
    "(4-10+6) & (1+4+9))\\end{pmatrix}\n",
    "= \\begin{pmatrix}\n",
    "45 & 0\\\\ \n",
    "0 & 14\\end{pmatrix}$"
   ]
  },
  {
   "cell_type": "code",
   "execution_count": 4,
   "metadata": {},
   "outputs": [
    {
     "name": "stdout",
     "output_type": "stream",
     "text": [
      "A*A^T=\n",
      "[[17 18 11]\n",
      " [18 29  4]\n",
      " [11  4 13]]\n",
      "\n",
      "A^T*A=\n",
      "[[45  0]\n",
      " [ 0 14]]\n"
     ]
    }
   ],
   "source": [
    "A = np.array([[4, 1],\n",
    "              [5, -2],\n",
    "              [2, 3]])\n",
    "\n",
    "print(f'A*A^T=\\n{np.dot(A, A.T)}\\n')\n",
    "print(f'A^T*A=\\n{np.dot(A.T, A)}')"
   ]
  },
  {
   "cell_type": "markdown",
   "metadata": {},
   "source": [
    "### __5*.__ Написать на Python функцию для перемножения двух произвольных матриц, не используя NumPy."
   ]
  },
  {
   "cell_type": "code",
   "execution_count": 19,
   "metadata": {},
   "outputs": [],
   "source": [
    "def mult(A, B):\n",
    "    if A.shape[0]==B.shape[1]:\n",
    "        #C = np.zeros((A.shape[0],A.shape[0]))\n",
    "        C = np.array([[0.] * A.shape[0]] * A.shape[0])\n",
    "\n",
    "        for i in range(A.shape[0]):\n",
    "            for m in range(A.shape[0]):\n",
    "                for n in range(A.shape[1]):\n",
    "                    C[i, m] += A[i,n]*B[n,m]\n",
    "    return C       "
   ]
  },
  {
   "cell_type": "code",
   "execution_count": 20,
   "metadata": {},
   "outputs": [
    {
     "name": "stdout",
     "output_type": "stream",
     "text": [
      "A*B =\n",
      "[[  4. -11.]\n",
      " [ 12.  -3.]]\n",
      "\n",
      "B*A =\n",
      "[[ 1. -8.]\n",
      " [15.  0.]]\n"
     ]
    }
   ],
   "source": [
    "A = np.array([[1, -2],\n",
    "              [3, 0]])\n",
    "B = np.array([[4, -1],\n",
    "              [0, 5]])\n",
    "\n",
    "print(f'A*B =\\n{mult(A, B)}\\n')\n",
    "print(f'B*A =\\n{mult(B, A)}')"
   ]
  },
  {
   "cell_type": "code",
   "execution_count": 21,
   "metadata": {},
   "outputs": [
    {
     "name": "stdout",
     "output_type": "stream",
     "text": [
      "A*B =\n",
      "[[17. 18. 11.]\n",
      " [18. 29.  4.]\n",
      " [11.  4. 13.]]\n",
      "\n",
      "B*A =\n",
      "[[45.  0.]\n",
      " [ 0. 14.]]\n"
     ]
    }
   ],
   "source": [
    "A = np.array([[4, 1],\n",
    "              [5, -2],\n",
    "              [2, 3]])\n",
    "\n",
    "B = A.T\n",
    "\n",
    "print(f'A*B =\\n{mult(A, B)}\\n')\n",
    "print(f'B*A =\\n{mult(B, A)}')"
   ]
  },
  {
   "cell_type": "markdown",
   "metadata": {},
   "source": [
    "# Урок 4"
   ]
  },
  {
   "cell_type": "markdown",
   "metadata": {},
   "source": [
    "## Матрицы и матричные операции. Часть 2"
   ]
  },
  {
   "cell_type": "markdown",
   "metadata": {},
   "source": [
    "### __1.__ Вычислить определитель:  "
   ]
  },
  {
   "cell_type": "markdown",
   "metadata": {},
   "source": [
    "#### a) $\\begin{vmatrix}\n",
    "sinx & -cosx\\\\ \n",
    "cosx & sinx\n",
    "\\end{vmatrix}$"
   ]
  },
  {
   "cell_type": "markdown",
   "metadata": {},
   "source": [
    " $\\begin{vmatrix}\n",
    "sinx & -cosx\\\\ \n",
    "cosx & sinx\n",
    "\\end{vmatrix} = sinx\\cdot sinx - (-cosx)\\cdot cosx = sin^{2}x + cos^{2}x = 1$"
   ]
  },
  {
   "cell_type": "markdown",
   "metadata": {},
   "source": [
    "#### б) $\\begin{vmatrix}\n",
    "4 & 2 & 3\\\\ \n",
    "0 & 5 & 1\\\\ \n",
    "0 & 0 & 9\n",
    "\\end{vmatrix}$"
   ]
  },
  {
   "cell_type": "markdown",
   "metadata": {},
   "source": [
    "$\\begin{vmatrix}\n",
    "4 & 2 & 3\\\\ \n",
    "0 & 5 & 1\\\\ \n",
    "0 & 0 & 9\n",
    "\\end{vmatrix} = \n",
    "4\\cdot \\begin{vmatrix}\n",
    "5 & 1\\\\ \n",
    "0 & 9\n",
    "\\end{vmatrix} - 2\\cdot \\begin{vmatrix}\n",
    "0 & 1\\\\ \n",
    "0 & 9\n",
    "\\end{vmatrix} + 3\\cdot \\begin{vmatrix} \n",
    "0 & 5 \\\\ \n",
    "0 & 0 \n",
    "\\end{vmatrix} = 4\\cdot(5\\cdot9-0\\cdot1)-2\\cdot(0\\cdot9-0\\cdot1)+3\\cdot(0\\cdot0-0\\cdot5) = 4\\cdot45 - 2\\cdot0 + 3\\cdot0 = 180$ "
   ]
  },
  {
   "cell_type": "markdown",
   "metadata": {},
   "source": [
    "$\\begin{vmatrix}\n",
    "4 & 2 & 3\\\\ \n",
    "0 & 5 & 1\\\\ \n",
    "0 & 0 & 9\n",
    "\\end{vmatrix} = 4\\cdot5\\cdot9 = 180$"
   ]
  },
  {
   "cell_type": "code",
   "execution_count": 23,
   "metadata": {},
   "outputs": [],
   "source": [
    "import numpy as np"
   ]
  },
  {
   "cell_type": "code",
   "execution_count": 36,
   "metadata": {},
   "outputs": [
    {
     "name": "stdout",
     "output_type": "stream",
     "text": [
      "detA = 180.0\n"
     ]
    }
   ],
   "source": [
    "A = np.array([[4, 2, 3],\n",
    "              [0, 5, 1], \n",
    "              [0, 0, 9]])\n",
    "print(f'detA = {np.linalg.det(A)}')"
   ]
  },
  {
   "cell_type": "markdown",
   "metadata": {},
   "source": [
    "#### в) $\\begin{vmatrix}\n",
    "1 & 2 & 3\\\\ \n",
    "4 & 5 & 6\\\\ \n",
    "7 & 8 & 9\n",
    "\\end{vmatrix}$"
   ]
  },
  {
   "cell_type": "markdown",
   "metadata": {},
   "source": [
    "$\\begin{vmatrix}\n",
    "1 & 2 & 3\\\\ \n",
    "4 & 5 & 6\\\\ \n",
    "7 & 8 & 9\n",
    "\\end{vmatrix} = 1\\cdot\\begin{vmatrix}\n",
    "5 & 6\\\\ \n",
    "8 & 9\n",
    "\\end{vmatrix} - 2\\cdot \\begin{vmatrix}\n",
    "4 & 6\\\\ \n",
    "7 & 9\n",
    "\\end{vmatrix} + 3\\cdot \\begin{vmatrix}\n",
    "4 & 5\\\\ \n",
    "7 & 8\n",
    "\\end{vmatrix} = 1\\cdot(5\\cdot9-8\\cdot6)-2\\cdot(4\\cdot9-7\\cdot6)+3\\cdot(4\\cdot8-7\\cdot5) \n",
    "= -3+12-9 = 0$"
   ]
  },
  {
   "cell_type": "code",
   "execution_count": 31,
   "metadata": {},
   "outputs": [
    {
     "name": "stdout",
     "output_type": "stream",
     "text": [
      "detA = 0\n"
     ]
    }
   ],
   "source": [
    "A = np.array([[1, 2, 3],\n",
    "              [4, 5, 6], \n",
    "              [7, 8, 9]])\n",
    "print(f'detA = {np.linalg.det(A):.0f}')"
   ]
  },
  {
   "cell_type": "markdown",
   "metadata": {},
   "source": [
    "### __2.__ Определитель матрицы $A$ равен $4$. Найти: "
   ]
  },
  {
   "cell_type": "markdown",
   "metadata": {},
   "source": [
    "#### а) $det(A^{2})$"
   ]
  },
  {
   "cell_type": "markdown",
   "metadata": {},
   "source": [
    "Исходя из свойства $det(AB) = det(A)\\cdot det(B)$ получаем:\n",
    "$det(A^{2}) = det(A\\cdot A) = det(A)\\cdot det(A) =4\\cdot4 = 16$"
   ]
  },
  {
   "cell_type": "markdown",
   "metadata": {},
   "source": [
    "#### б) $det(A^{T})$"
   ]
  },
  {
   "cell_type": "markdown",
   "metadata": {},
   "source": [
    "Исходя из свойства $det(A^{T})=det(A)=4$"
   ]
  },
  {
   "cell_type": "markdown",
   "metadata": {},
   "source": [
    "#### в) $det(2A)$"
   ]
  },
  {
   "cell_type": "markdown",
   "metadata": {},
   "source": [
    "Исходя из свойства определителей об умножении строки или столбца на число, для того чтобы дать ответ на этот вопрос необходимо знать размерность матрицы. Так как в таком случае на 2 умножаются все строки или столбцы и тогда определитель увеличится на 2 в степени равной колчеству строк или столбцов."
   ]
  },
  {
   "cell_type": "markdown",
   "metadata": {},
   "source": [
    "### __3.__  Доказать, что матрица вырожденная:\n",
    "$\\begin{pmatrix}\n",
    "-2 & 7 & -3\\\\ \n",
    "4 & -14 & 6\\\\ \n",
    "-3 & 7 & 13\n",
    "\\end{pmatrix}$"
   ]
  },
  {
   "cell_type": "markdown",
   "metadata": {},
   "source": [
    "$\\begin{pmatrix}\n",
    "-2 & 7 & -3\\\\ \n",
    "4 & -14 & 6\\\\ \n",
    "-3 & 7 & 13\n",
    "\\end{pmatrix} = -2\\cdot \\begin{pmatrix}\n",
    "-14 & 6\\\\ \n",
    "7 & 13\n",
    "\\end{pmatrix} -7\\cdot \\begin{pmatrix} \n",
    "4 & 6\\\\ \n",
    "-3 & 13\n",
    "\\end{pmatrix} -3\\cdot \\begin{pmatrix} \n",
    "4 & -14\\\\ \n",
    "-3 & 7\n",
    "\\end{pmatrix}$ <br> $ = -2\\cdot((-14)\\cdot13-6\\cdot7)-7\\cdot(4\\cdot13-(-3)\\cdot6)-3\\cdot(4\\cdot7-(-3)\\cdot(-14)) = \n",
    "-2\\cdot(-182-42)-7\\cdot(52+18)-3\\cdot(27-42)) = -2\\cdot(-224)-7\\cdot(70)-3\\cdot(-14)) \n",
    "= 448-490+42 = 0$"
   ]
  },
  {
   "cell_type": "code",
   "execution_count": 37,
   "metadata": {},
   "outputs": [
    {
     "name": "stdout",
     "output_type": "stream",
     "text": [
      "detA = 0\n"
     ]
    }
   ],
   "source": [
    "A = np.array([[-2, 7, -3],\n",
    "              [4, -14, 6], \n",
    "              [-3, 7, 13]])\n",
    "print(f'detA = {np.linalg.det(A):.0f}')"
   ]
  },
  {
   "cell_type": "markdown",
   "metadata": {},
   "source": [
    "Определитель равен 0, следовательно матрица является вырожденной."
   ]
  },
  {
   "cell_type": "markdown",
   "metadata": {},
   "source": [
    "### __4.__ Найти ранг матрицы:"
   ]
  },
  {
   "cell_type": "markdown",
   "metadata": {},
   "source": [
    "#### а) $\\begin{pmatrix}\n",
    "1 & 2 & 3\\\\ \n",
    "1 & 1 & 1\\\\ \n",
    "2 & 3 & 4\n",
    "\\end{pmatrix}$"
   ]
  },
  {
   "cell_type": "markdown",
   "metadata": {},
   "source": [
    "3-я строка матрицы это 1-ая строка матрицы увеличенная на 1, следовательно эти строки линейно зависимы. Вторая строка не зависима. Значит матрица имеет ранг 2."
   ]
  },
  {
   "cell_type": "code",
   "execution_count": 38,
   "metadata": {},
   "outputs": [
    {
     "name": "stdout",
     "output_type": "stream",
     "text": [
      "Ранг матрицы: 2\n"
     ]
    }
   ],
   "source": [
    "A = np.array([[1, 2, 3],\n",
    "              [1, 1, 1], \n",
    "              [2, 3, 4]])\n",
    "print(f'Ранг матрицы: {np.linalg.matrix_rank(A)}')"
   ]
  },
  {
   "cell_type": "markdown",
   "metadata": {},
   "source": [
    "#### б) $\\begin{pmatrix}\n",
    "0 & 0 & 2 & 1\\\\ \n",
    "0 & 0 & 2 & 2\\\\ \n",
    "0 & 0 & 4 & 3\\\\ \n",
    "2 & 3 & 5 & 6\n",
    "\\end{pmatrix}$"
   ]
  },
  {
   "cell_type": "markdown",
   "metadata": {},
   "source": [
    "В данной матрице все строки являются линейно независимыми, следовательно матрица имеет ранг 3. "
   ]
  },
  {
   "cell_type": "code",
   "execution_count": 40,
   "metadata": {},
   "outputs": [
    {
     "name": "stdout",
     "output_type": "stream",
     "text": [
      "Ранг матрицы: 3\n"
     ]
    }
   ],
   "source": [
    "A = np.array([[0, 0, 2, 1],\n",
    "              [0, 0, 2, 2],\n",
    "              [0, 0, 4, 3],\n",
    "              [2, 3, 5, 6]])\n",
    "print(f'Ранг матрицы: {np.linalg.matrix_rank(A)}')"
   ]
  },
  {
   "cell_type": "markdown",
   "metadata": {},
   "source": [
    "### Функция нахождения определителя. "
   ]
  },
  {
   "cell_type": "markdown",
   "metadata": {},
   "source": [
    "Я приложила отдельный файл с тем, что успела сделать. Я смогла сделать функцию расчета определителя для матрицы 3х3. Я подготовила функцию для разложения любой матрицы до матриц 3х3 без испольования рекурсии. Но не успела придумать как хранить множители для этих матриц. Хотела сделать словарь, где в качестве ключа будет использована матрица преобразованная в строку, но потом поняла, что матрицы могут совпадать. И новый вариант найти не успела, к сожалению. "
   ]
  },
  {
   "cell_type": "code",
   "execution_count": null,
   "metadata": {},
   "outputs": [],
   "source": []
  }
 ],
 "metadata": {
  "kernelspec": {
   "display_name": "Python 3",
   "language": "python",
   "name": "python3"
  },
  "language_info": {
   "codemirror_mode": {
    "name": "ipython",
    "version": 3
   },
   "file_extension": ".py",
   "mimetype": "text/x-python",
   "name": "python",
   "nbconvert_exporter": "python",
   "pygments_lexer": "ipython3",
   "version": "3.7.3"
  }
 },
 "nbformat": 4,
 "nbformat_minor": 2
}
