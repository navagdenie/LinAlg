{
 "cells": [
  {
   "cell_type": "markdown",
   "metadata": {},
   "source": [
    "# Урок 6"
   ]
  },
  {
   "cell_type": "markdown",
   "metadata": {},
   "source": [
    "## Системы линейных уравнений. Часть 1"
   ]
  },
  {
   "cell_type": "markdown",
   "metadata": {},
   "source": [
    "### __1.__ Решить систему уравнений методом Гаусса:\n",
    "\n",
    "$\\begin{cases}\n",
    "x_{1}+x_{2}-x_{3}-2x_{4}=0, \\\\\n",
    "2x_{1}+x_{2}-x_{3}+x_{4}=-2, \\\\\n",
    "x_{1}+x_{2}-3x_{3}+x_{4}=4.\n",
    "\\end{cases}$"
   ]
  },
  {
   "cell_type": "markdown",
   "metadata": {},
   "source": [
    "$\\begin{pmatrix}\n",
    "1 & 1 & -1 & -2\\\\ \n",
    "2 & 1 & -1 & 1\\\\\n",
    "1 & 1 & -3 & 1\\\\\n",
    "\\end{pmatrix} = \\begin{pmatrix}\n",
    "0\\\\ \n",
    "-2\\\\\n",
    "4\\\\\n",
    "\\end{pmatrix}$"
   ]
  },
  {
   "cell_type": "markdown",
   "metadata": {},
   "source": [
    "$\\begin{pmatrix}\n",
    "1 & 1 & -1 & -2\\\\ \n",
    "0 & 1 & -1 & -5\\\\\n",
    "0 & 0 & 2 & -3\\\\\n",
    "\\end{pmatrix} = \\begin{pmatrix}\n",
    "0\\\\ \n",
    "-2\\\\\n",
    "-4\\\\\n",
    "\\end{pmatrix}$"
   ]
  },
  {
   "cell_type": "markdown",
   "metadata": {},
   "source": [
    "$x_{3}=c$"
   ]
  },
  {
   "cell_type": "markdown",
   "metadata": {},
   "source": [
    "$2c - 3x_{4}=-4$ <br>\n",
    "$x_{4}=4/3+2/3c$"
   ]
  },
  {
   "cell_type": "markdown",
   "metadata": {},
   "source": [
    "$x_{2}-c-5(4/3 + 2/3c)=-2$ <br>\n",
    "$x_{2}-c-20/3-10/3c = -2$ <br>\n",
    "$x_{2}-20/3-13/3c = -2$ <br>\n",
    "$x_{2} = 14/3 + 13/3c$"
   ]
  },
  {
   "cell_type": "markdown",
   "metadata": {},
   "source": [
    "$x_{1}+(14/3+13/3c)-c-2(4/3+2/3c) = 0$ <br>\n",
    "$x_{1} + 14/3 + 13/3c - c - 8/3 - 4/3c = 0$ <br>\n",
    "$x_{1} + 2 + 2c = 0$ <br>\n",
    "$x_{1} = - 2 - 2c $"
   ]
  },
  {
   "cell_type": "markdown",
   "metadata": {},
   "source": [
    "Общее решение системы: <br>\n",
    "$\\begin{cases}\n",
    "x_{1} = -2 -2с, \\\\\n",
    "x_{2} = 14/3 + 13/3с, \\\\\n",
    "x_{3} = с, \\\\\n",
    "x_{4}=4/3 + 2/3с.\n",
    "\\end{cases}$\n"
   ]
  },
  {
   "cell_type": "markdown",
   "metadata": {},
   "source": [
    "### __2.__ Проверить на совместность и выяснить, сколько решений будет иметь система линейных уравнений:"
   ]
  },
  {
   "cell_type": "markdown",
   "metadata": {},
   "source": [
    "### а) $\\begin{cases}\n",
    "3x_{1}-x_{2}+x_{3}=4, \\\\\n",
    "2x_{1}-5x_{2}-3x_{3}=-17, \\\\\n",
    "x_{1}+x_{2}-x_{3}=0;\n",
    "\\end{cases}$"
   ]
  },
  {
   "cell_type": "markdown",
   "metadata": {},
   "source": [
    "$\\begin{pmatrix}\n",
    "3 & -1 & 1\\\\ \n",
    "2 & -5 & -3\\\\\n",
    "1 & 1 & -1\\\\\n",
    "\\end{pmatrix} = \\begin{pmatrix}\n",
    "4\\\\ \n",
    "-17\\\\\n",
    "0\\\\\n",
    "\\end{pmatrix}$"
   ]
  },
  {
   "cell_type": "markdown",
   "metadata": {},
   "source": [
    "$\\begin{pmatrix}\n",
    "3 & -1 & 1\\\\ \n",
    "2 & -5 & -3\\\\\n",
    "1 & 1 & -1\\\\\n",
    "\\end{pmatrix} = \\begin{pmatrix}\n",
    "4\\\\ \n",
    "-17\\\\\n",
    "0\\\\\n",
    "\\end{pmatrix}$"
   ]
  },
  {
   "cell_type": "markdown",
   "metadata": {},
   "source": [
    "$\\begin{pmatrix}\n",
    "1 & 1 & -1\\\\\n",
    "0 & 4 & -4\\\\ \n",
    "0 & 7 & 1\\\\\n",
    "\\end{pmatrix} = \\begin{pmatrix}\n",
    "0\\\\\n",
    "-4\\\\ \n",
    "17\\\\\n",
    "\\end{pmatrix}$"
   ]
  },
  {
   "cell_type": "markdown",
   "metadata": {},
   "source": [
    "$\\begin{pmatrix}\n",
    "1 & 1 & -1\\\\\n",
    "0 & 4 & -4\\\\ \n",
    "0 & 0 & 8\\\\\n",
    "\\end{pmatrix} = \\begin{pmatrix}\n",
    "0\\\\\n",
    "-4\\\\ \n",
    "24\\\\\n",
    "\\end{pmatrix}$"
   ]
  },
  {
   "cell_type": "markdown",
   "metadata": {},
   "source": [
    "$8x_{3}=24$ <br>\n",
    "$x_{3}=3$"
   ]
  },
  {
   "cell_type": "markdown",
   "metadata": {},
   "source": [
    "$4x_{2}-4\\cdot3=-4$ <br>\n",
    "$x_{2}=2$"
   ]
  },
  {
   "cell_type": "markdown",
   "metadata": {},
   "source": [
    "$x_{1}+1\\cdot2-1\\cdot3 = 0$ <br>\n",
    "$x_{1} = 1$"
   ]
  },
  {
   "cell_type": "markdown",
   "metadata": {},
   "source": [
    "Система является совместимой и имеет только 1 решение."
   ]
  },
  {
   "cell_type": "markdown",
   "metadata": {},
   "source": [
    "### б) $\\begin{cases}\n",
    "2x_{1}-4x_{2}+6x_{3}=1, \\\\\n",
    "x_{1}-2x_{2}+3x_{3}=-2, \\\\\n",
    "3x_{1}-6x_{2}+9x_{3}=5;\n",
    "\\end{cases}$"
   ]
  },
  {
   "cell_type": "markdown",
   "metadata": {},
   "source": [
    "$\\begin{pmatrix}\n",
    "2 & -4 & 6\\\\ \n",
    "1 & -2 & 3\\\\\n",
    "3 & -6 & 9\\\\\n",
    "\\end{pmatrix} = \\begin{pmatrix}\n",
    "1\\\\ \n",
    "-2\\\\\n",
    "5\\\\\n",
    "\\end{pmatrix}$"
   ]
  },
  {
   "cell_type": "markdown",
   "metadata": {},
   "source": [
    "Очевидно, что векторы коэффициентов линейно зависимы. Система несовместна и не имеет решений."
   ]
  },
  {
   "cell_type": "markdown",
   "metadata": {},
   "source": [
    "### в) $\\begin{cases}\n",
    "x_{1}+2x_{2}+5x_{3}=4, \\\\\n",
    "3x_{1}+x_{2}-8x_{3}=-2. \n",
    "\\end{cases}$"
   ]
  },
  {
   "cell_type": "markdown",
   "metadata": {},
   "source": [
    "$\\begin{pmatrix}\n",
    "1 & 2 & 5\\\\ \n",
    "3 & 1 & -8\\\\\n",
    "\\end{pmatrix} = \\begin{pmatrix}\n",
    "4\\\\ \n",
    "-2\\\\\n",
    "\\end{pmatrix}$"
   ]
  },
  {
   "cell_type": "markdown",
   "metadata": {},
   "source": [
    "Количество переменных больше количества уравнений, значит система недоопределена. Векторы коэффициентов линейно независимы, значит существует бесконечное решений."
   ]
  },
  {
   "cell_type": "markdown",
   "metadata": {},
   "source": [
    "### __3.__ Проверить на совместность и выяснить, сколько решений будет иметь система линейных уравнений, заданная расширенной матрицей\n",
    "\n",
    "$$\\tilde{A}=\\begin{pmatrix}\n",
    "\\left.\\begin{matrix}\n",
    "1 & 3 & -2 & 4\\\\ \n",
    "0 & 5 & 0 & 1\\\\ \n",
    "0 & 0 & 3 & 0\\\\ \n",
    "0 & 0 & 0 & 2\n",
    "\\end{matrix}\\right|\n",
    "\\begin{matrix}\n",
    "3\\\\ \n",
    "2\\\\\n",
    "4\\\\\n",
    "1\n",
    "\\end{matrix}\n",
    "\\end{pmatrix}.$$"
   ]
  },
  {
   "cell_type": "markdown",
   "metadata": {},
   "source": [
    "$\\begin{pmatrix}\n",
    "1 & 3 & -2 & 4\\\\ \n",
    "0 & 5 & 0 & 1\\\\\n",
    "0 & 0 & 3 & 0\\\\\n",
    "0 & 0 & 0 & 2\\\\\n",
    "\\end{pmatrix} = \\begin{pmatrix}\n",
    "3\\\\ \n",
    "2\\\\\n",
    "4\\\\ \n",
    "1\\\\ \n",
    "\\end{pmatrix}$"
   ]
  },
  {
   "cell_type": "markdown",
   "metadata": {},
   "source": [
    "$2x_{4}=1$ <br>\n",
    "$x_{4}=1/2$"
   ]
  },
  {
   "cell_type": "markdown",
   "metadata": {},
   "source": [
    "$3x_{3}=4$ <br>\n",
    "$x_{3} = 4/3$"
   ]
  },
  {
   "cell_type": "markdown",
   "metadata": {},
   "source": [
    "$5x_{2}+1/2=2$ <br>\n",
    "$5x_{2}=3/2$ <br>\n",
    "$x_{2}=3/10$"
   ]
  },
  {
   "cell_type": "markdown",
   "metadata": {},
   "source": [
    "$x_{1}+3\\cdot3/10-2\\cdot4/3+4\\cdot1/2=3$ <br>\n",
    "$x_{1}+9/10-8/3+4/2=3$ <br>\n",
    "$x_{1}=3 -9/10 +8/3 - 4/2$ <br>\n",
    "$x_{1}=83/30$ <br>"
   ]
  },
  {
   "cell_type": "markdown",
   "metadata": {},
   "source": [
    "Матрица является совместимой и имеет только 1 решение."
   ]
  },
  {
   "cell_type": "markdown",
   "metadata": {},
   "source": [
    "### __4.__ Дана система линейных уравнений, заданная расширенной матрицей\n",
    "\n",
    "$$\\tilde{A}=\\begin{pmatrix}\n",
    "\\left.\\begin{matrix}\n",
    "1 & 2 & 3\\\\ \n",
    "4 & 5 & 6\\\\ \n",
    "7 & 8 & 9\n",
    "\\end{matrix}\\right|\n",
    "\\begin{matrix}\n",
    "a\\\\ \n",
    "b\\\\\n",
    "c\n",
    "\\end{matrix}\n",
    "\\end{pmatrix}.$$\n",
    "\n",
    "Найти соотношение между параметрами $a$, $b$ и $c$, при которых система является несовместной."
   ]
  },
  {
   "cell_type": "markdown",
   "metadata": {},
   "source": [
    "$\\begin{pmatrix}\n",
    "1 & 2 & 3\\\\ \n",
    "4 & 5 & 6\\\\\n",
    "7 & 8 & 9\\\\\n",
    "\\end{pmatrix} = \\begin{pmatrix}\n",
    "a\\\\ \n",
    "b\\\\\n",
    "c\\\\  \n",
    "\\end{pmatrix}$"
   ]
  },
  {
   "cell_type": "markdown",
   "metadata": {},
   "source": [
    "$\\begin{pmatrix}\n",
    "1 & 2 & 3\\\\ \n",
    "2 & 1 & 0\\\\\n",
    "7 & 8 & 9\\\\\n",
    "\\end{pmatrix} = \\begin{pmatrix}\n",
    "a\\\\ \n",
    "b-2a\\\\\n",
    "c\\\\  \n",
    "\\end{pmatrix}$"
   ]
  },
  {
   "cell_type": "markdown",
   "metadata": {},
   "source": [
    "$\\begin{pmatrix}\n",
    "1 & 2 & 3\\\\ \n",
    "2 & 1 & 0\\\\\n",
    "4 & 2 & 0\\\\\n",
    "\\end{pmatrix} = \\begin{pmatrix}\n",
    "a\\\\ \n",
    "b-2a\\\\\n",
    "c-3a\\\\  \n",
    "\\end{pmatrix}$"
   ]
  },
  {
   "cell_type": "markdown",
   "metadata": {},
   "source": [
    "$\\begin{pmatrix}\n",
    "1 & 2 & 3\\\\ \n",
    "2 & 1 & 0\\\\\n",
    "0 & 0 & 0\\\\\n",
    "\\end{pmatrix} = \\begin{pmatrix}\n",
    "a\\\\ \n",
    "b-2a\\\\\n",
    "c +a -2b\\\\  \n",
    "\\end{pmatrix}$"
   ]
  },
  {
   "cell_type": "markdown",
   "metadata": {},
   "source": [
    "Система будет не совметсной если a - 2b + c будет отличным от 0."
   ]
  },
  {
   "cell_type": "markdown",
   "metadata": {},
   "source": [
    "# Урок 7"
   ]
  },
  {
   "cell_type": "markdown",
   "metadata": {},
   "source": [
    "## Системы линейных уравнений. Часть 2"
   ]
  },
  {
   "cell_type": "markdown",
   "metadata": {},
   "source": [
    "### __1.__ Решить систему уравнений методом Крамера:\n",
    "\n",
    "   а) $\\begin{cases}\n",
    "x_{1}-2x_{2}=1 \\\\\n",
    "3x_{1}-4x_{2}=7\n",
    "\\end{cases}$"
   ]
  },
  {
   "cell_type": "markdown",
   "metadata": {},
   "source": [
    "$detA=\\begin{vmatrix}\n",
    "1 & -2\\\\ \n",
    "3 & -4\\\\ \n",
    "\\end{vmatrix}= \n",
    "1\\cdot (-4) - 3\\cdot(-2) = -4 +6 = 2\n",
    "$"
   ]
  },
  {
   "cell_type": "markdown",
   "metadata": {},
   "source": [
    "$detA_{1}=\\begin{vmatrix}\n",
    "1 & -2\\\\ \n",
    "7 & -4 \n",
    "\\end{vmatrix}=\n",
    "1\\cdot (-4) - 7\\cdot(-2) = -4 +14 = 10$"
   ]
  },
  {
   "cell_type": "markdown",
   "metadata": {},
   "source": [
    "$detA_{2}=\\begin{vmatrix}\n",
    "1 & 1\\\\ \n",
    "3 & 7 \n",
    "\\end{vmatrix}=\n",
    "1\\cdot7-3\\cdot1 = 7 - 3 = 4\n",
    "$"
   ]
  },
  {
   "cell_type": "markdown",
   "metadata": {},
   "source": [
    "$x_{1} = \\frac{detA_{1}}{detA} = \\frac{10}{2}=5$"
   ]
  },
  {
   "cell_type": "markdown",
   "metadata": {},
   "source": [
    "$x_{2} = \\frac{detA_{2}}{detA} = \\frac{4}{2}=2$"
   ]
  },
  {
   "cell_type": "markdown",
   "metadata": {},
   "source": [
    "б) $\\begin{cases}\n",
    "2x_{1}-x_{2}+5x_{3}=10 \\\\\n",
    "x_{1}+x_{2}-3x_{3}=-2 \\\\\n",
    "2x_{1}+4x_{2}+x_{3}=1\n",
    "\\end{cases}$"
   ]
  },
  {
   "cell_type": "markdown",
   "metadata": {},
   "source": [
    "$detA=\\begin{vmatrix}\n",
    "2 & -1 & 5\\\\ \n",
    "1 & 1 & -3\\\\ \n",
    "2 & 4 & 1\n",
    "\\end{vmatrix}=\n",
    "2\\begin{vmatrix}\n",
    "1 & -3\\\\ \n",
    "4 & 1 \n",
    "\\end{vmatrix}-\n",
    "(-1)\\begin{vmatrix}\n",
    "1 & -3\\\\ \n",
    "2 & 1 \n",
    "\\end{vmatrix}+\n",
    "5\\begin{vmatrix}\n",
    "1 & 1 \\\\ \n",
    "2 & 4\n",
    "\\end{vmatrix}=2(1 \\cdot 1-(-3)\\cdot4)-(-1)(1\\cdot 1-(-3)\\cdot2)+5(1\\cdot4-2\\cdot 1)=$ <br> \n",
    "$= 2(1+12)+1(1+6)+5(4-2) = 26+7+10 = 43$"
   ]
  },
  {
   "cell_type": "markdown",
   "metadata": {},
   "source": [
    "$detA_{1}=\\begin{vmatrix}\n",
    "10 & -1 & 5\\\\ \n",
    "-2 & 1 & -3\\\\ \n",
    "1 & 4 & 1\n",
    "\\end{vmatrix}=\n",
    "10\\begin{vmatrix}\n",
    "1 & -3\\\\ \n",
    "4 & 1 \n",
    "\\end{vmatrix}-\n",
    "(-1)\\begin{vmatrix}\n",
    "-2 & -3\\\\ \n",
    "1 & 1 \n",
    "\\end{vmatrix}+\n",
    "5\\begin{vmatrix}\n",
    "-2 & 1 \\\\ \n",
    "1 & 4\n",
    "\\end{vmatrix}=10(1 \\cdot 1-(-3)\\cdot4)-(-1)(-2\\cdot1-(-3)\\cdot1)+5(-2\\cdot4-1\\cdot1)=$ <br>\n",
    "$= 10(1+12) + (-2+3)+5(-8-1) = 130 +1-45 = 86$"
   ]
  },
  {
   "cell_type": "markdown",
   "metadata": {},
   "source": [
    "$detA_{2}=\\begin{vmatrix}\n",
    "2 & 10 & 5\\\\ \n",
    "1 & -2 & -3\\\\ \n",
    "2 & 1 & 1\n",
    "\\end{vmatrix}=\n",
    "2\\begin{vmatrix}\n",
    "-2 & -3\\\\ \n",
    "1 & 1 \n",
    "\\end{vmatrix}-\n",
    "10\\begin{vmatrix}\n",
    "1 & -3\\\\ \n",
    "2 & 1 \n",
    "\\end{vmatrix}+\n",
    "5\\begin{vmatrix}\n",
    "1 & -2 \\\\ \n",
    "2 & 1\n",
    "\\end{vmatrix}=2(-2 \\cdot 1-(-3)\\cdot1)-10(1\\cdot 1-(-3)\\cdot2)+5(1\\cdot1-(-2)\\cdot 2)=$ <br> \n",
    "$= 2(-2+3)-10(1+6)+5(1+4) = 2-70+25 = -43$"
   ]
  },
  {
   "cell_type": "markdown",
   "metadata": {},
   "source": [
    "$detA_{3}=\\begin{vmatrix}\n",
    "2 & -1 & 10\\\\ \n",
    "1 & 1 & -2\\\\ \n",
    "2 & 4 & 1\n",
    "\\end{vmatrix}=\n",
    "2\\begin{vmatrix}\n",
    "1 & -2\\\\ \n",
    "4 & 1 \n",
    "\\end{vmatrix}-\n",
    "(-1)\\begin{vmatrix}\n",
    "1 & -2\\\\ \n",
    "2 & 1 \n",
    "\\end{vmatrix}+\n",
    "10\\begin{vmatrix}\n",
    "1 & 1 \\\\ \n",
    "2 & 4\n",
    "\\end{vmatrix}=2(1 \\cdot 1-(-2)\\cdot4)-(-1)(1\\cdot 1-(-2)\\cdot2)+10(1\\cdot4-2\\cdot 1)=$ <br> \n",
    "$= 2(1+8)+1(1+4)+10(4-2) = 18+5+20 = 43$"
   ]
  },
  {
   "cell_type": "markdown",
   "metadata": {},
   "source": [
    "$x_{1} = \\frac{detA_{1}}{detA} = \\frac{86}{43}=2$"
   ]
  },
  {
   "cell_type": "markdown",
   "metadata": {},
   "source": [
    "$x_{2} = \\frac{detA_{2}}{detA} = \\frac{-43}{43}=-1$"
   ]
  },
  {
   "cell_type": "markdown",
   "metadata": {},
   "source": [
    "$x_{3} = \\frac{detA_{3}}{detA} = \\frac{43}{43}=1$"
   ]
  },
  {
   "cell_type": "markdown",
   "metadata": {},
   "source": [
    "### __2.__ Найти $L$-матрицу $LU$-разложения для матрицы коэффициентов:\n",
    "\n",
    "а)$\\begin{pmatrix}\n",
    "1 & 2 & 4 \\\\ \n",
    "2 & 9 & 12 \\\\ \n",
    "3 & 26 & 30\n",
    "\\end{pmatrix}$"
   ]
  },
  {
   "cell_type": "markdown",
   "metadata": {},
   "source": [
    "1) Матрица коэффициентов:\n",
    "$\\begin{pmatrix}\n",
    "1 & 2 & 4 \\\\ \n",
    "0 & 5 & 4 \\\\ \n",
    "0 & 20 & 18\n",
    "\\end{pmatrix}$\n",
    "\n",
    "Матрица $L$:\n",
    "$\\begin{pmatrix}\n",
    "1 & 0 & 0 \\\\ \n",
    "2 & 1 & 0 \\\\ \n",
    "3 & l_{32} & 1\n",
    "\\end{pmatrix}$"
   ]
  },
  {
   "cell_type": "markdown",
   "metadata": {},
   "source": [
    "2) Матрица коэффициентов:\n",
    "$\\begin{pmatrix}\n",
    "1 & 2 & 4 \\\\ \n",
    "0 & 5 & 4 \\\\ \n",
    "0 & 0 & 2\n",
    "\\end{pmatrix}$\n",
    "\n",
    "Матрица $L$:\n",
    "$\\begin{pmatrix}\n",
    "1 & 0 & 0 \\\\ \n",
    "2 & 1 & 0 \\\\ \n",
    "3 & 4 & 1\n",
    "\\end{pmatrix}$"
   ]
  },
  {
   "cell_type": "markdown",
   "metadata": {},
   "source": [
    "### б)$\\begin{pmatrix}\n",
    "1 & 1 & 2 & 4\\\\ \n",
    "2 & 5 & 8 & 9\\\\ \n",
    "3 & 18 & 29 & 18\\\\\n",
    "4 & 22 & 53 & 33\n",
    "\\end{pmatrix}$"
   ]
  },
  {
   "cell_type": "markdown",
   "metadata": {},
   "source": [
    "1) Матрица коэффициентов:\n",
    "$\\begin{pmatrix}\n",
    "1 & 1 & 2 & 4\\\\ \n",
    "0 & 3 & 4 & 1\\\\ \n",
    "0 & 15 & 23 & 6\\\\\n",
    "0 & 18 & 45 & 17\n",
    "\\end{pmatrix}$\n",
    "\n",
    "Матрица $L$:\n",
    "$\\begin{pmatrix}\n",
    "1 & 0 & 0 & 0\\\\ \n",
    "2 & 1 & 0 & 0\\\\\n",
    "3 & l_{32} & 1 & 0\\\\\n",
    "4 & l_{42} & l_{43} & 1\n",
    "\\end{pmatrix}$"
   ]
  },
  {
   "cell_type": "markdown",
   "metadata": {},
   "source": [
    "2) Матрица коэффициентов:\n",
    "$\\begin{pmatrix}\n",
    "1 & 1 & 2 & 4\\\\ \n",
    "0 & 3 & 4 & 1\\\\ \n",
    "0 & 0 & 3 & 1\\\\\n",
    "0 & 0 & 21 & 11\n",
    "\\end{pmatrix}$\n",
    "\n",
    "Матрица $L$:\n",
    "$\\begin{pmatrix}\n",
    "1 & 0 & 0 & 0\\\\ \n",
    "2 & 1 & 0 & 0\\\\\n",
    "3 & 5 & 1 & 0\\\\\n",
    "4 & 6 & l_{43} & 1\n",
    "\\end{pmatrix}$"
   ]
  },
  {
   "cell_type": "markdown",
   "metadata": {},
   "source": [
    "3) Матрица коэффициентов:\n",
    "$\\begin{pmatrix}\n",
    "1 & 1 & 2 & 4\\\\ \n",
    "0 & 3 & 4 & 1\\\\ \n",
    "0 & 0 & 3 & 1\\\\\n",
    "0 & 0 & 0 & 4\n",
    "\\end{pmatrix}$\n",
    "\n",
    "Матрица $L$:\n",
    "$\\begin{pmatrix}\n",
    "1 & 0 & 0 & 0\\\\ \n",
    "2 & 1 & 0 & 0\\\\\n",
    "3 & 5 & 1 & 0\\\\\n",
    "4 & 6 & 7 & 1\n",
    "\\end{pmatrix}$"
   ]
  },
  {
   "cell_type": "markdown",
   "metadata": {},
   "source": [
    "### __3.__ Решить систему линейных уравнений методом $LU$-разложения\n",
    "\n",
    "$\\begin{cases}\n",
    "2x_{1}+x_{2}+3x_{3}=1 \\\\\n",
    "11x_{1}+7x_{2}+5x_{3}=-6 \\\\\n",
    "9x_{1}+8x_{2}+4x_{3}=-5\n",
    "\\end{cases}$"
   ]
  },
  {
   "cell_type": "markdown",
   "metadata": {},
   "source": [
    "$\\begin{pmatrix}\n",
    "2 & 1 & 3 \\\\ \n",
    "11 & 7 & 5 \\\\ \n",
    "9 & 8 & 4\n",
    "\\end{pmatrix}$"
   ]
  },
  {
   "cell_type": "markdown",
   "metadata": {},
   "source": [
    "1) Матрица коэффициентов:\n",
    "$\\begin{pmatrix}\n",
    "2 & 1 & 3 \\\\ \n",
    "0 & 3/2 & -23/2 \\\\ \n",
    "0 & 7/2 & -19/2\n",
    "\\end{pmatrix}$\n",
    "\n",
    "Матрица $L$:\n",
    "$\\begin{pmatrix}\n",
    "1 & 0 & 0 \\\\ \n",
    "11/2 & 1 & 0 \\\\ \n",
    "9/2 & l_{32} & 1\n",
    "\\end{pmatrix}$"
   ]
  },
  {
   "cell_type": "markdown",
   "metadata": {},
   "source": [
    "2) Матрица коэффициентов:\n",
    "$\\begin{pmatrix}\n",
    "2 & 1 & 3 \\\\ \n",
    "0 & 3/2 & -23/2 \\\\ \n",
    "0 & 0 & 52/3\n",
    "\\end{pmatrix}$\n",
    "\n",
    "Матрица $L$:\n",
    "$\\begin{pmatrix}\n",
    "1 & 0 & 0 \\\\ \n",
    "11/2 & 1 & 0 \\\\ \n",
    "9/2 & 7/3 & 1\n",
    "\\end{pmatrix}$"
   ]
  },
  {
   "cell_type": "markdown",
   "metadata": {},
   "source": [
    "$Ly=b:$ <br>\n",
    "$\\begin{pmatrix}\n",
    "1 & 0 & 0 \\\\ \n",
    "11/2 & 1 & 0 \\\\ \n",
    "9/2 & 7/3 & 1\n",
    "\\end{pmatrix}y = \n",
    "\\begin{pmatrix}\n",
    "1\\\\ \n",
    "-6\\\\ \n",
    "-5\n",
    "\\end{pmatrix}$"
   ]
  },
  {
   "cell_type": "markdown",
   "metadata": {},
   "source": [
    "$\\begin{cases}\n",
    "y_{1}=1 \\\\\n",
    "11/2y_{1}+y_{2}=-6 \\\\\n",
    "9/2y_{1}+7/3y_{2}+y_{3}=-5\n",
    "\\end{cases}$"
   ]
  },
  {
   "cell_type": "markdown",
   "metadata": {},
   "source": [
    "$\\begin{cases}\n",
    "y_{1}=1 \\\\\n",
    "y_{2}=-23/2 \\\\\n",
    "y_{3}=52/3\n",
    "\\end{cases}$"
   ]
  },
  {
   "cell_type": "markdown",
   "metadata": {},
   "source": [
    "$Ux=y$"
   ]
  },
  {
   "cell_type": "markdown",
   "metadata": {},
   "source": [
    "$\\begin{pmatrix}\n",
    "2 & 1 & 3 \\\\ \n",
    "0 & 3/2 & -23/2 \\\\ \n",
    "0 & 0 & 52/3\n",
    "\\end{pmatrix}x = \\begin{pmatrix}\n",
    "1\\\\ \n",
    "-23/2 \\\\ \n",
    "52/3\n",
    "\\end{pmatrix}$"
   ]
  },
  {
   "cell_type": "markdown",
   "metadata": {},
   "source": [
    "$\\begin{cases}\n",
    "2x_{1}+x_{2}+3x_{3}=1 \\\\\n",
    "3/2x_{2}-23/2x_{3}=-23/2 \\\\\n",
    "52/3x_{3}=52/3\n",
    "\\end{cases}$"
   ]
  },
  {
   "cell_type": "markdown",
   "metadata": {},
   "source": [
    "$\\begin{cases}\n",
    "x_{1}=-1 \\\\\n",
    "x_{2}=0 \\\\\n",
    "x_{3}=1\n",
    "\\end{cases}$"
   ]
  },
  {
   "cell_type": "markdown",
   "metadata": {},
   "source": [
    "### __4.__ Решить систему линейных уравнений методом Холецкого\n",
    "\n",
    "$\\begin{cases}\n",
    "81x_{1}-45x_{2}+45x_{3}=531 \\\\\n",
    "-45x_{1}+50x_{2}-15x_{3}=-460 \\\\\n",
    "45x_{1}-15x_{2}+38x_{3}=193\n",
    "\\end{cases}$"
   ]
  },
  {
   "cell_type": "markdown",
   "metadata": {},
   "source": [
    "$\\begin{pmatrix}\n",
    "81 & -45 & 45 \\\\ \n",
    "-45 & 50 & -15 \\\\ \n",
    "45 & -15 & 38\n",
    "\\end{pmatrix}x= \\begin{pmatrix}\n",
    "531 \\\\ \n",
    "-460 \\\\ \n",
    "193\n",
    "\\end{pmatrix}$"
   ]
  },
  {
   "cell_type": "markdown",
   "metadata": {},
   "source": [
    "$l_{11}=\\sqrt{a_{11}}=\\sqrt{81}=9$ <br>\n",
    "$l_{21}=\\frac{a_{21}}{l_{11}}=\\frac{-45}{9} = -5$ <br>\n",
    "$l_{31}=\\frac{a_{31}}{l_{11}}=\\frac{45}{9} = 5$ <br>\n",
    "\n",
    "$l_{22}=\\sqrt{a_{22}-l_{21}^{2}}=\\sqrt{50 - 5^{2}}=5$ <br>\n",
    "$l_{32}=\\frac{1}{l_{22}}\\left ( a_{32}-l_{21}l_{31} \\right)=\\frac{1}{5}\\left ( -15 -(-5)\\cdot5 \\right )=2$ <br>\n",
    "\n",
    "$l_{33}=\\sqrt{a_{33}-l_{13}^{2}-l_{23}^{2}}=\\sqrt{38-25-4}=3$ <br>\n"
   ]
  },
  {
   "cell_type": "markdown",
   "metadata": {},
   "source": [
    "Матрица $L$:\n",
    "$\\begin{pmatrix}\n",
    "9 & 0 & 0 \\\\ \n",
    "-5 & 5 & 0 \\\\ \n",
    "5 & 2 & 3\n",
    "\\end{pmatrix}$"
   ]
  },
  {
   "cell_type": "markdown",
   "metadata": {},
   "source": [
    "Матрица $L^{T}$:\n",
    "$\\begin{pmatrix}\n",
    "9& -5 & 5 \\\\ \n",
    "0 & 5 & 2 \\\\ \n",
    "0 & 0 & 3\n",
    "\\end{pmatrix}$"
   ]
  },
  {
   "cell_type": "markdown",
   "metadata": {},
   "source": [
    "$Ly=b:$ <br>\n",
    "$\\begin{pmatrix}\n",
    "9 & 0 & 0 \\\\ \n",
    "-5 & 5 & 0 \\\\ \n",
    "5 & 2 & 3\n",
    "\\end{pmatrix}y = \n",
    "\\begin{pmatrix}\n",
    "531\\\\ \n",
    "-460\\\\ \n",
    "193\n",
    "\\end{pmatrix}$"
   ]
  },
  {
   "cell_type": "markdown",
   "metadata": {},
   "source": [
    "$\\begin{cases}\n",
    "9y_{1}=531 \\\\\n",
    "-5y_{1}+5y_{2}=-460 \\\\\n",
    "5y_{1}+2y_{2}+3y_{3}=193\n",
    "\\end{cases}$"
   ]
  },
  {
   "cell_type": "markdown",
   "metadata": {},
   "source": [
    "$\\begin{cases}\n",
    "y_{1}=59 \\\\\n",
    "y_{2}=-33 \\\\\n",
    "y_{3}=-12\n",
    "\\end{cases}$"
   ]
  },
  {
   "cell_type": "markdown",
   "metadata": {},
   "source": [
    "$L^{T}x=y$"
   ]
  },
  {
   "cell_type": "markdown",
   "metadata": {},
   "source": [
    "$\\begin{pmatrix}\n",
    "9& -5 & 5 \\\\ \n",
    "0 & 5 & 2 \\\\ \n",
    "0 & 0 & 3\n",
    "\\end{pmatrix}x = \n",
    "\\begin{pmatrix}\n",
    "59\\\\ \n",
    "-33\\\\ \n",
    "-12\n",
    "\\end{pmatrix}$"
   ]
  },
  {
   "cell_type": "markdown",
   "metadata": {},
   "source": [
    "$\\begin{cases}\n",
    "9x_{1}-5x_{2}+5x_{3}=59 \\\\\n",
    "5x_{2}-2x_{3}=-33 \\\\\n",
    "3x_{3}=-12\n",
    "\\end{cases}$"
   ]
  },
  {
   "cell_type": "markdown",
   "metadata": {},
   "source": [
    "$\\begin{cases}\n",
    "x_{1}=6 \\\\\n",
    "x_{2}=-5 \\\\\n",
    "x_{3}=-4\n",
    "\\end{cases}$"
   ]
  },
  {
   "cell_type": "markdown",
   "metadata": {},
   "source": [
    "### __5*.__ Написать на Python программу с реализацией одного из изученных алгоритмов решения СЛАУ."
   ]
  },
  {
   "cell_type": "markdown",
   "metadata": {},
   "source": [
    "Функция решения СЛАУ методом LU-разложения"
   ]
  },
  {
   "cell_type": "code",
   "execution_count": 1,
   "metadata": {},
   "outputs": [],
   "source": [
    "import numpy as np"
   ]
  },
  {
   "cell_type": "code",
   "execution_count": 2,
   "metadata": {},
   "outputs": [],
   "source": [
    "def LU_solve(A, b):\n",
    "    #проверяем матрицу на квадратность\n",
    "    if A.shape[0]==A.shape[1] and A.shape[0]==b.shape[0]:\n",
    "        k = 1\n",
    "        U = A.copy()\n",
    "        L = np.zeros((A.shape[0], A.shape[0]))\n",
    "        for i in range(A.shape[0]):\n",
    "            for j in range(A.shape[0]):\n",
    "                if i == j:\n",
    "                    L[i, j] = 1\n",
    "                    \n",
    "        #заполняем L и U матрицы\n",
    "        for t in range(A.shape[1]-1):\n",
    "            for n in range(1, A.shape[1]):\n",
    "                for m in range(A.shape[1]):\n",
    "                    if n >= t + 1:\n",
    "                        if m == t:\n",
    "                            k = U[n, m] / U[t, m]\n",
    "                            L[n, m] = k\n",
    "                        if m>=t:\n",
    "                            U[n, m] -= U[t, m]*k\n",
    "    \n",
    "        #решаем систему Ly=b\n",
    "        y = np.zeros((A.shape[0], 1))\n",
    "        for n in range(A.shape[0]):\n",
    "            sum_=0\n",
    "            for m in range(A.shape[0]):\n",
    "                if n==m==0:\n",
    "                    y[n, 0]=b[n, 0]\n",
    "    \n",
    "                else:\n",
    "                    if m<n:\n",
    "                        sum_ += L[n, m]*y[m, 0]\n",
    "                    elif m==n:\n",
    "                        y[n, 0] = b[n, 0]-sum_\n",
    "    \n",
    "        #решаем систему Ux=y\n",
    "        x = np.zeros((A.shape[0], 1))\n",
    "        for n in range(A.shape[0]-1, -1, -1):\n",
    "            sum_ = 0\n",
    "            for m in range(A.shape[0]-1, -1, -1):\n",
    "                if n == m == A.shape[0]-1:\n",
    "                    x[n, 0] = y[n, 0]/U[n, m]\n",
    "    \n",
    "                else:\n",
    "                    if m > n:\n",
    "                        sum_ += U[n, m] * x[m, 0]\n",
    "                    elif m == n:\n",
    "                        x[n, 0] = (y[n, 0] - sum_)/U[n, m]\n",
    "        return x\n",
    "    else:\n",
    "        if A.shape[0]!=A.shape[1]:\n",
    "            return \"Матрица не является квадратной\"\n",
    "        elif A.shape[0]!=b.shape[0]:\n",
    "            return \"Вектор b не соответствует размеру матрицы\"\n",
    "        "
   ]
  },
  {
   "cell_type": "code",
   "execution_count": 3,
   "metadata": {},
   "outputs": [
    {
     "name": "stdout",
     "output_type": "stream",
     "text": [
      "[[30835.72222222]\n",
      " [-4273.05555556]\n",
      " [ 5087.16666667]\n",
      " [-9051.5       ]]\n"
     ]
    }
   ],
   "source": [
    "A = np.array([[1, 1, 2, 4],\n",
    "              [2, 5, 8, 9], \n",
    "              [3, 18, 29, 18],\n",
    "              [4, 22, 53, 33]])\n",
    "\n",
    "b = np.array([[531], \n",
    "             [-460],\n",
    "             [193],\n",
    "             [256]])\n",
    "print(LU_solve(A, b))"
   ]
  },
  {
   "cell_type": "code",
   "execution_count": 4,
   "metadata": {},
   "outputs": [
    {
     "name": "stdout",
     "output_type": "stream",
     "text": [
      "Матрица не является квадратной\n"
     ]
    }
   ],
   "source": [
    "A = np.array([[1, 1, 2, 4],\n",
    "              [2, 5, 8, 9], \n",
    "              [4, 22, 53, 33]])\n",
    "\n",
    "b = np.array([[531], \n",
    "             [-460],\n",
    "             [193],\n",
    "             [256]])\n",
    "print(LU_solve(A, b))"
   ]
  },
  {
   "cell_type": "code",
   "execution_count": 5,
   "metadata": {},
   "outputs": [
    {
     "name": "stdout",
     "output_type": "stream",
     "text": [
      "Вектор b не соответствует размеру матрицы\n"
     ]
    }
   ],
   "source": [
    "A = np.array([[1, 1, 2, 4],\n",
    "              [2, 5, 8, 9], \n",
    "              [3, 18, 29, 18],\n",
    "              [4, 22, 53, 33]])\n",
    "\n",
    "b = np.array([[531], \n",
    "             [-460],\n",
    "             [256]])\n",
    "print(LU_solve(A, b))"
   ]
  },
  {
   "cell_type": "code",
   "execution_count": null,
   "metadata": {},
   "outputs": [],
   "source": []
  }
 ],
 "metadata": {
  "kernelspec": {
   "display_name": "Python 3",
   "language": "python",
   "name": "python3"
  },
  "language_info": {
   "codemirror_mode": {
    "name": "ipython",
    "version": 3
   },
   "file_extension": ".py",
   "mimetype": "text/x-python",
   "name": "python",
   "nbconvert_exporter": "python",
   "pygments_lexer": "ipython3",
   "version": "3.7.3"
  }
 },
 "nbformat": 4,
 "nbformat_minor": 2
}
